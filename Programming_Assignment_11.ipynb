{
 "cells": [
  {
   "cell_type": "markdown",
   "id": "a8406b80",
   "metadata": {},
   "source": [
    "# Programming_Assignment_11"
   ]
  },
  {
   "cell_type": "markdown",
   "id": "a7159648",
   "metadata": {},
   "source": [
    "### 1. Write a Python program to find words which are greater than given length k?"
   ]
  },
  {
   "cell_type": "code",
   "execution_count": 1,
   "id": "95ccea02",
   "metadata": {},
   "outputs": [
    {
     "name": "stdout",
     "output_type": "stream",
     "text": [
      "All words which are greater than given length  5 are  ['program', 'written', 'python']\n"
     ]
    }
   ],
   "source": [
    "my_string = \"This program is written in python\"\n",
    "k = 5\n",
    "new_strings = []\n",
    "words = my_string.split(\" \")\n",
    "for word in words:\n",
    "    if len(word) > k:\n",
    "        new_strings.append(word)\n",
    "print(\"All words which are greater than given length \", k, \"are \", new_strings)"
   ]
  },
  {
   "cell_type": "markdown",
   "id": "3bf4d006",
   "metadata": {},
   "source": [
    "### 2. Write a Python program for removing i-th character from a string?"
   ]
  },
  {
   "cell_type": "code",
   "execution_count": 2,
   "id": "872dae87",
   "metadata": {},
   "outputs": [
    {
     "name": "stdout",
     "output_type": "stream",
     "text": [
      "Original string:  subhankar\n",
      "String after removing:  subhakar\n"
     ]
    }
   ],
   "source": [
    "my_string = \"subhankar\"\n",
    "i=6\n",
    "print(\"Original string: \",my_string)\n",
    "new_strings = my_string[:i-1]+my_string[i:]\n",
    "print(\"String after removing: \",new_strings)"
   ]
  },
  {
   "cell_type": "markdown",
   "id": "6e2bffa6",
   "metadata": {},
   "source": [
    "### 3. Write a Python program to split and join a string?"
   ]
  },
  {
   "cell_type": "code",
   "execution_count": 3,
   "id": "4b8dcf3a",
   "metadata": {},
   "outputs": [
    {
     "name": "stdout",
     "output_type": "stream",
     "text": [
      "The string after splitting is : ['The', 'quick', 'brown', 'fox', 'jumps', 'over', 'the', 'lazy', 'dog']\n",
      "The string after performing join is: The-quick-brown-fox-jumps-over-the-lazy-dog\n"
     ]
    }
   ],
   "source": [
    "my_string = \"The quick brown fox jumps over the lazy dog\"\n",
    "Separator = '-'\n",
    "splitting = my_string.split(' ')\n",
    "joining = Separator.join(splitting)\n",
    "print('The string after splitting is :',splitting)\n",
    "print('The string after performing join is:',joining)"
   ]
  },
  {
   "cell_type": "markdown",
   "id": "e1fa91f3",
   "metadata": {},
   "source": [
    "### 4. Write a Python to check if a given string is binary string or not?"
   ]
  },
  {
   "cell_type": "code",
   "execution_count": 4,
   "id": "9765ebef",
   "metadata": {},
   "outputs": [
    {
     "name": "stdout",
     "output_type": "stream",
     "text": [
      "No, not binary string\n"
     ]
    }
   ],
   "source": [
    "my_string = \"0101012010\"\n",
    "binary=\"01\"\n",
    "for i in binary:\n",
    "    my_string=my_string.replace(i,\"\")\n",
    "if(len(my_string)==0):\n",
    "    print(\"Yes,binary string\")\n",
    "else:\n",
    "    print(\"No, not binary string\")"
   ]
  },
  {
   "cell_type": "markdown",
   "id": "96e564c9",
   "metadata": {},
   "source": [
    "### 5. Write a Python program to find uncommon words from two Strings?"
   ]
  },
  {
   "cell_type": "code",
   "execution_count": 5,
   "id": "16d80247",
   "metadata": {},
   "outputs": [
    {
     "name": "stdout",
     "output_type": "stream",
     "text": [
      "All uncommon words from both the string are  {'the', 'brown', 'This', 'python', 'in', 'program', 'The', 'quick', 'is', 'over', 'dog', 'lazy', 'written', 'jumps', 'fox'}\n"
     ]
    }
   ],
   "source": [
    "my_string1 = \"This program is written in python\"\n",
    "my_string2 = \"The quick brown fox jumps over the lazy dog\"\n",
    "count = {}\n",
    "unsc1 = my_string1.split()\n",
    "unsc2= my_string2.split()\n",
    "uncommonWords = set(unsc1).symmetric_difference(set(unsc2))\n",
    "print(\"All uncommon words from both the string are \", uncommonWords)"
   ]
  },
  {
   "cell_type": "markdown",
   "id": "f5a49d60",
   "metadata": {},
   "source": [
    "### 6. Write a Python to find all duplicate characters in string?"
   ]
  },
  {
   "cell_type": "code",
   "execution_count": 6,
   "id": "0fdd7385",
   "metadata": {},
   "outputs": [
    {
     "name": "stdout",
     "output_type": "stream",
     "text": [
      "The duplicate characters are ['h', 'i', 's', ' ', 'p', 'r', 'o', 't', 'n']\n"
     ]
    }
   ],
   "source": [
    "string3 = \"This program is written in python\"\n",
    "dups={}\n",
    "for x in string3:\n",
    "    if x not in dups:\n",
    "        dups[x]=0\n",
    "    else:\n",
    "        dups[x]+=1\n",
    "output=[]\n",
    "for keys,vals in dups.items():\n",
    "      if vals>0:\n",
    "        output.append(keys)\n",
    "print('The duplicate characters are {}'.format(output))"
   ]
  },
  {
   "cell_type": "markdown",
   "id": "5ef3d767",
   "metadata": {},
   "source": [
    "### 7. Write a Python Program to check if a string contains any special character?"
   ]
  },
  {
   "cell_type": "code",
   "execution_count": 7,
   "id": "04568fbc",
   "metadata": {},
   "outputs": [
    {
     "name": "stdout",
     "output_type": "stream",
     "text": [
      "The string contains special characters.\n"
     ]
    }
   ],
   "source": [
    "import re\n",
    "string4 = \"The quick brown & fox jumps over the lazy dog\"\n",
    "special_character = re.compile('[@_!#$%^&*()<>?/\\|}{~:]')\n",
    "if(special_character.search(string4) == None):\n",
    "    print('String does not contain any special characters.')\n",
    "else:\n",
    "    print('The string contains special characters.')"
   ]
  }
 ],
 "metadata": {
  "kernelspec": {
   "display_name": "Python 3 (ipykernel)",
   "language": "python",
   "name": "python3"
  },
  "language_info": {
   "codemirror_mode": {
    "name": "ipython",
    "version": 3
   },
   "file_extension": ".py",
   "mimetype": "text/x-python",
   "name": "python",
   "nbconvert_exporter": "python",
   "pygments_lexer": "ipython3",
   "version": "3.9.12"
  }
 },
 "nbformat": 4,
 "nbformat_minor": 5
}
