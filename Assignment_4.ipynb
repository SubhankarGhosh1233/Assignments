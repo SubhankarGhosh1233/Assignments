{
 "cells": [
  {
   "cell_type": "markdown",
   "id": "ca08d663",
   "metadata": {},
   "source": [
    "# Assignment_4"
   ]
  },
  {
   "cell_type": "markdown",
   "id": "b0be02cd",
   "metadata": {},
   "source": [
    "### 1. What exactly is []?\n"
   ]
  },
  {
   "cell_type": "markdown",
   "id": "3552e989",
   "metadata": {},
   "source": [
    "Ans: The empty list value, which is a list value that contains no items. This is similar to the empty string value."
   ]
  },
  {
   "cell_type": "markdown",
   "id": "eca70e77",
   "metadata": {},
   "source": [
    "### 2. In a list of values stored in a variable called spam, how would you assign the value &#39;hello&#39; as the third value? (Assume [2, 4, 6, 8, 10] are in spam.) Let&#39;s pretend the spam includes the list [&#39;a&#39;, &#39;b&#39;, &#39;c&#39;, &#39;d&#39;] for the next three queries.\n"
   ]
  },
  {
   "cell_type": "markdown",
   "id": "e9f50a25",
   "metadata": {},
   "source": [
    "Ans: spam[2] = 'hello' "
   ]
  },
  {
   "cell_type": "markdown",
   "id": "014c40b0",
   "metadata": {},
   "source": [
    "### 3. What is the value of spam[int(int(&#39;3&#39; * 2) / 11)]?\n"
   ]
  },
  {
   "cell_type": "markdown",
   "id": "a38d70fd",
   "metadata": {},
   "source": [
    "Ans: '3' * 2 is the string '33', which is passed to int() before being divided by 11. This eventually evaluates to 3."
   ]
  },
  {
   "cell_type": "markdown",
   "id": "9cf73eaf",
   "metadata": {},
   "source": [
    "### 4. What is the value of spam[-1]?\n"
   ]
  },
  {
   "cell_type": "markdown",
   "id": "09c08cd3",
   "metadata": {},
   "source": [
    "Ans: "
   ]
  },
  {
   "cell_type": "code",
   "execution_count": 28,
   "id": "c633dc26",
   "metadata": {},
   "outputs": [
    {
     "data": {
      "text/plain": [
       "'d'"
      ]
     },
     "execution_count": 28,
     "metadata": {},
     "output_type": "execute_result"
    }
   ],
   "source": [
    "spam= ['a', 'b', 'c', 'd'] \n",
    "spam[-1]"
   ]
  },
  {
   "cell_type": "markdown",
   "id": "e29dc229",
   "metadata": {},
   "source": [
    "### 5. What is the value of spam[:2]? Let&#39;s pretend bacon has the list [3.14, &#39;cat,&#39; 11, &#39;cat,&#39; True] for the next three questions.\n"
   ]
  },
  {
   "cell_type": "markdown",
   "id": "dcfe7331",
   "metadata": {},
   "source": [
    "Ans: "
   ]
  },
  {
   "cell_type": "code",
   "execution_count": 29,
   "id": "9b756513",
   "metadata": {},
   "outputs": [
    {
     "data": {
      "text/plain": [
       "['a', 'b']"
      ]
     },
     "execution_count": 29,
     "metadata": {},
     "output_type": "execute_result"
    }
   ],
   "source": [
    "spam = ['a', 'b', 'c', 'd'] \n",
    "spam [:2]"
   ]
  },
  {
   "cell_type": "markdown",
   "id": "71f9266d",
   "metadata": {},
   "source": [
    "### 6. What is the value of bacon.index(&#39;cat&#39;)?\n"
   ]
  },
  {
   "cell_type": "markdown",
   "id": "e7389a5b",
   "metadata": {},
   "source": [
    "Ans: "
   ]
  },
  {
   "cell_type": "code",
   "execution_count": 30,
   "id": "34b81dc2",
   "metadata": {},
   "outputs": [
    {
     "data": {
      "text/plain": [
       "1"
      ]
     },
     "execution_count": 30,
     "metadata": {},
     "output_type": "execute_result"
    }
   ],
   "source": [
    "bacon = [3.14, 'cat' ,11, 'cat' ,True]\n",
    "bacon.index('cat')"
   ]
  },
  {
   "cell_type": "markdown",
   "id": "3fdbc8ac",
   "metadata": {},
   "source": [
    "### 7. How does bacon.append(99) change the look of the list value in bacon?\n"
   ]
  },
  {
   "cell_type": "markdown",
   "id": "5a8da8e2",
   "metadata": {},
   "source": [
    "Ans: "
   ]
  },
  {
   "cell_type": "code",
   "execution_count": 31,
   "id": "8a2c93f9",
   "metadata": {},
   "outputs": [
    {
     "data": {
      "text/plain": [
       "[3.14, 'cat', 11, 'cat', True, 99]"
      ]
     },
     "execution_count": 31,
     "metadata": {},
     "output_type": "execute_result"
    }
   ],
   "source": [
    "bacon.append(99)\n",
    "bacon"
   ]
  },
  {
   "cell_type": "markdown",
   "id": "4ef46036",
   "metadata": {},
   "source": [
    "### 8. How does bacon.remove(&#39;cat&#39;) change the look of the list in bacon?\n"
   ]
  },
  {
   "cell_type": "markdown",
   "id": "edc41f28",
   "metadata": {},
   "source": [
    "Ans: "
   ]
  },
  {
   "cell_type": "code",
   "execution_count": 32,
   "id": "0d829bcf",
   "metadata": {},
   "outputs": [
    {
     "data": {
      "text/plain": [
       "[3.14, 11, 'cat', True]"
      ]
     },
     "execution_count": 32,
     "metadata": {},
     "output_type": "execute_result"
    }
   ],
   "source": [
    "bacon = [3.14, 'cat' ,11, 'cat' ,True]\n",
    "bacon.remove('cat')\n",
    "bacon  "
   ]
  },
  {
   "cell_type": "markdown",
   "id": "c6d04d37",
   "metadata": {},
   "source": [
    "### 9. What are the list concatenation and list replication operators?\n"
   ]
  },
  {
   "cell_type": "markdown",
   "id": "1c0407e3",
   "metadata": {},
   "source": [
    "Ans: The operator for list concatenation is +, while the operator for replication is *."
   ]
  },
  {
   "cell_type": "markdown",
   "id": "3e5d465b",
   "metadata": {},
   "source": [
    "### 10. What is difference between the list methods append() and insert()?\n"
   ]
  },
  {
   "cell_type": "markdown",
   "id": "565bf293",
   "metadata": {},
   "source": [
    "Ans: While append() will add values only to the end of a list, insert() can add them anywhere in the list."
   ]
  },
  {
   "cell_type": "markdown",
   "id": "1b117579",
   "metadata": {},
   "source": [
    "### 11. What are the two methods for removing items from a list?\n"
   ]
  },
  {
   "cell_type": "markdown",
   "id": "093b9fb5",
   "metadata": {},
   "source": [
    "Ans: The del statement and the remove() list method are two methods to remove values from a list."
   ]
  },
  {
   "cell_type": "markdown",
   "id": "d7db674d",
   "metadata": {},
   "source": [
    "### 12. Describe how list values and string values are identical.\n"
   ]
  },
  {
   "cell_type": "markdown",
   "id": "22f6a726",
   "metadata": {},
   "source": [
    "Ans: Both lists and strings can be passed to len(), have indexes and slices, be used in for loops, be concatenated or replicated, and be used with the in and not in operators."
   ]
  },
  {
   "cell_type": "markdown",
   "id": "97034e88",
   "metadata": {},
   "source": [
    "### 13. What&#39;s the difference between tuples and lists?\n"
   ]
  },
  {
   "cell_type": "markdown",
   "id": "4f5a9bb1",
   "metadata": {},
   "source": [
    "Ans: Lists are mutable; they can have values added, removed, or changed. Tuples are immutable; they cannot be changed at all. Also, tuples are written using parentheses, while lists use the square brackets."
   ]
  },
  {
   "cell_type": "markdown",
   "id": "3da5921a",
   "metadata": {},
   "source": [
    "### 14. How do you type a tuple value that only contains the integer 42?\n"
   ]
  },
  {
   "cell_type": "markdown",
   "id": "4f1967df",
   "metadata": {},
   "source": [
    "Ans: (42,)\n",
    "It is mandatory to give comma after 42."
   ]
  },
  {
   "cell_type": "markdown",
   "id": "2465d3da",
   "metadata": {},
   "source": [
    "### 15. How do you get a list value&#39;s tuple form? How do you get a tuple value&#39;s list form?\n"
   ]
  },
  {
   "cell_type": "markdown",
   "id": "48b13188",
   "metadata": {},
   "source": [
    "Ans: By using The tuple() and list() functions."
   ]
  },
  {
   "cell_type": "markdown",
   "id": "c55a9729",
   "metadata": {},
   "source": [
    "### 16. Variables that &quot;contain&quot; list values are not necessarily lists themselves. Instead, what do they contain?\n"
   ]
  },
  {
   "cell_type": "markdown",
   "id": "ee37bbda",
   "metadata": {},
   "source": [
    "Ans: They contain references to list values."
   ]
  },
  {
   "cell_type": "markdown",
   "id": "626b0436",
   "metadata": {},
   "source": [
    "### 17. How do you distinguish between copy.copy() and copy.deepcopy()?"
   ]
  },
  {
   "cell_type": "markdown",
   "id": "396f115f",
   "metadata": {},
   "source": [
    "Ans: The copy.copy() function will do a shallow copy of a list, while the copy.deepcopy() function will do a deep copy of a list. That is, only copy.deepcopy() will duplicate any lists inside the list."
   ]
  }
 ],
 "metadata": {
  "kernelspec": {
   "display_name": "Python 3 (ipykernel)",
   "language": "python",
   "name": "python3"
  },
  "language_info": {
   "codemirror_mode": {
    "name": "ipython",
    "version": 3
   },
   "file_extension": ".py",
   "mimetype": "text/x-python",
   "name": "python",
   "nbconvert_exporter": "python",
   "pygments_lexer": "ipython3",
   "version": "3.9.12"
  }
 },
 "nbformat": 4,
 "nbformat_minor": 5
}
