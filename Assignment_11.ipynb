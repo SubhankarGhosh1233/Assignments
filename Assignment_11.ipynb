{
 "cells": [
  {
   "cell_type": "markdown",
   "id": "14f1174e",
   "metadata": {},
   "source": [
    "#  Assignment_11"
   ]
  },
  {
   "cell_type": "markdown",
   "id": "b9b8d9a0",
   "metadata": {},
   "source": [
    "### 1. Create an assert statement that throws an AssertionError if the variable spam is a negative integer.\n"
   ]
  },
  {
   "cell_type": "code",
   "execution_count": 4,
   "id": "803ae5c5",
   "metadata": {},
   "outputs": [
    {
     "name": "stdout",
     "output_type": "stream",
     "text": [
      "enter a positive number : -22\n"
     ]
    },
    {
     "ename": "AssertionError",
     "evalue": "negative number is entered",
     "output_type": "error",
     "traceback": [
      "\u001b[1;31m---------------------------------------------------------------------------\u001b[0m",
      "\u001b[1;31mAssertionError\u001b[0m                            Traceback (most recent call last)",
      "Input \u001b[1;32mIn [4]\u001b[0m, in \u001b[0;36m<cell line: 3>\u001b[1;34m()\u001b[0m\n\u001b[0;32m      1\u001b[0m \u001b[38;5;66;03m# Program execution proceeds only if the expression is true and raises the AssertionError when it is false.\u001b[39;00m\n\u001b[0;32m      2\u001b[0m spam \u001b[38;5;241m=\u001b[39m\u001b[38;5;28mint\u001b[39m(\u001b[38;5;28minput\u001b[39m(\u001b[38;5;124m\"\u001b[39m\u001b[38;5;124menter a positive number : \u001b[39m\u001b[38;5;124m\"\u001b[39m))\n\u001b[1;32m----> 3\u001b[0m \u001b[38;5;28;01massert\u001b[39;00m spam \u001b[38;5;241m>\u001b[39m \u001b[38;5;241m0\u001b[39m , \u001b[38;5;124m\"\u001b[39m\u001b[38;5;124mnegative number is entered\u001b[39m\u001b[38;5;124m\"\u001b[39m\n\u001b[0;32m      4\u001b[0m \u001b[38;5;28mprint\u001b[39m(\u001b[38;5;124m\"\u001b[39m\u001b[38;5;124mEntered number is :\u001b[39m\u001b[38;5;124m\"\u001b[39m,spam)\n",
      "\u001b[1;31mAssertionError\u001b[0m: negative number is entered"
     ]
    }
   ],
   "source": [
    "# Program execution proceeds only if the expression is true and raises the AssertionError when it is false.\n",
    "spam =int(input(\"enter a positive number : \"))\n",
    "assert spam > 0 , \"negative number is entered\"\n",
    "print(\"Entered number is :\",spam)"
   ]
  },
  {
   "cell_type": "code",
   "execution_count": 5,
   "id": "f558370c",
   "metadata": {},
   "outputs": [
    {
     "name": "stdout",
     "output_type": "stream",
     "text": [
      "enter a positive number : 22\n",
      "Entered number is : 22\n"
     ]
    }
   ],
   "source": [
    "spam =int(input(\"enter a positive number : \"))\n",
    "assert spam > 0 , \"negative number is entered\"\n",
    "print(\"Entered number is :\",spam)"
   ]
  },
  {
   "cell_type": "markdown",
   "id": "c02e3e74",
   "metadata": {},
   "source": [
    "### 2. Write an assert statement that triggers an AssertionError if the variables eggs and bacon contain strings that are the same as each other, even if their cases are different (that is, &#39;hello&#39; and &#39;hello&#39; are considered the same, and &#39;goodbye&#39; and &#39;GOODbye&#39; are also considered the same).\n"
   ]
  },
  {
   "cell_type": "code",
   "execution_count": 21,
   "id": "eaa632ae",
   "metadata": {},
   "outputs": [
    {
     "name": "stdout",
     "output_type": "stream",
     "text": [
      "The eggs and bacon variables are the same!\n"
     ]
    }
   ],
   "source": [
    "eggs = 'hello'\n",
    "bacon = 'goodbye'\n",
    "assert eggs.lower()!= bacon.lower(), 'The eggs and bacon variables are the same!' \n",
    "print('The eggs and bacon variables are the same!')"
   ]
  },
  {
   "cell_type": "markdown",
   "id": "d9e2458f",
   "metadata": {},
   "source": [
    "### 3. Create an assert statement that throws an AssertionError every time.\n"
   ]
  },
  {
   "cell_type": "code",
   "execution_count": 19,
   "id": "7bccf0bb",
   "metadata": {},
   "outputs": [
    {
     "ename": "AssertionError",
     "evalue": "Always triggers an AssertionError.",
     "output_type": "error",
     "traceback": [
      "\u001b[1;31m---------------------------------------------------------------------------\u001b[0m",
      "\u001b[1;31mAssertionError\u001b[0m                            Traceback (most recent call last)",
      "Input \u001b[1;32mIn [19]\u001b[0m, in \u001b[0;36m<cell line: 1>\u001b[1;34m()\u001b[0m\n\u001b[1;32m----> 1\u001b[0m \u001b[38;5;28;01massert\u001b[39;00m \u001b[38;5;28;01mFalse\u001b[39;00m, \u001b[38;5;124m'\u001b[39m\u001b[38;5;124mAlways triggers an AssertionError.\u001b[39m\u001b[38;5;124m'\u001b[39m\n",
      "\u001b[1;31mAssertionError\u001b[0m: Always triggers an AssertionError."
     ]
    }
   ],
   "source": [
    "assert False, 'Always triggers an AssertionError.'"
   ]
  },
  {
   "cell_type": "markdown",
   "id": "029e494b",
   "metadata": {},
   "source": [
    "### 4. What are the two lines that must be present in your software in order to call logging.debug()?"
   ]
  },
  {
   "cell_type": "markdown",
   "id": "248cb3a1",
   "metadata": {},
   "source": [
    "Ans: To call logging.debug(), I must have these two lines at the start of my program:\n",
    "import logging\n",
    "logging.basicConfig(level=logging.DEBUG, format=' %(asctime)s - %(levelname)s - %(message)s')"
   ]
  },
  {
   "cell_type": "markdown",
   "id": "b8c6c77e",
   "metadata": {},
   "source": [
    "### 5. What are the two lines that your program must have in order to have logging.debug() send a logging message to a file named programLog.txt?\n"
   ]
  },
  {
   "cell_type": "markdown",
   "id": "25a35e55",
   "metadata": {},
   "source": [
    "Ans: import logging\n",
    "     logging.basicConfig(filename='programLog.txt', level=logging.DEBUG, format=' %(asctime)s - %(levelname)s - %(message)s')"
   ]
  },
  {
   "cell_type": "markdown",
   "id": "cbfb4d77",
   "metadata": {},
   "source": [
    "### 6. What are the five levels of logging?\n"
   ]
  },
  {
   "cell_type": "markdown",
   "id": "6c54c98e",
   "metadata": {},
   "source": [
    "Ans: DEBUG, INFO, WARNING, ERROR, and CRITICAL"
   ]
  },
  {
   "cell_type": "markdown",
   "id": "e5bdffdc",
   "metadata": {},
   "source": [
    "### 7. What line of code would you add to your software to disable all logging messages?\n"
   ]
  },
  {
   "cell_type": "markdown",
   "id": "68f328dd",
   "metadata": {},
   "source": [
    "Ans: logging.disable(logging.CRITICAL)\n",
    "set Critical levels that disable all logging messages."
   ]
  },
  {
   "cell_type": "markdown",
   "id": "e2f163f4",
   "metadata": {},
   "source": [
    "### 8.Why is using logging messages better than using print() to display the same message?\n"
   ]
  },
  {
   "cell_type": "markdown",
   "id": "eeb9628a",
   "metadata": {},
   "source": [
    "Ans: You can disable logging messages without removing the logging function calls. You can selectively disable lower-level logging messages. You can create logging messages which shows what is happning to your codes.It also provides a timestamp."
   ]
  },
  {
   "cell_type": "markdown",
   "id": "af91ac17",
   "metadata": {},
   "source": [
    "### 9. What are the differences between the Step Over, Step In, and Step Out buttons in the debugger?\n"
   ]
  },
  {
   "cell_type": "markdown",
   "id": "b091d71d",
   "metadata": {},
   "source": [
    "Ans:\n",
    "#### Step Over command:\n",
    "Step Over will eneble, only after the debugging is started with step into, run from step, run to step.Step Over is used for debugging the test steps line by line, When the procedure is called, the entire procedure call will be executed as single step. The cursor never gets inside the procedure.\n",
    "#### Step Into command:\n",
    "Step Into is used for debugging the test steps line by line. When the procedure gets called, step into enebles you to get inside the procedure and debugs the procedure steps line by line.\n",
    "#### Step Out command:\n",
    "Step Out will eneble, only after the debugging cursor gets inside a procedure. The cursor will get inside a procedure only when the test is debugging with step into."
   ]
  },
  {
   "cell_type": "markdown",
   "id": "7b22c2e3",
   "metadata": {},
   "source": [
    "### 10.After you click Continue, when will the debugger stop ?\n"
   ]
  },
  {
   "cell_type": "markdown",
   "id": "7935450c",
   "metadata": {},
   "source": [
    "Ans:After click Continue, the debugger will stop when it has reached the end of the program or a line with a breakpoint.\n"
   ]
  },
  {
   "cell_type": "markdown",
   "id": "cb11cffe",
   "metadata": {},
   "source": [
    "### 11. What is the concept of a breakpoint?"
   ]
  },
  {
   "cell_type": "markdown",
   "id": "50c68ed1",
   "metadata": {},
   "source": [
    "Ans: breakpoint is a setting on a line of code that causes the debugger to pause when the program execution reaches the line."
   ]
  }
 ],
 "metadata": {
  "kernelspec": {
   "display_name": "Python 3 (ipykernel)",
   "language": "python",
   "name": "python3"
  },
  "language_info": {
   "codemirror_mode": {
    "name": "ipython",
    "version": 3
   },
   "file_extension": ".py",
   "mimetype": "text/x-python",
   "name": "python",
   "nbconvert_exporter": "python",
   "pygments_lexer": "ipython3",
   "version": "3.9.12"
  }
 },
 "nbformat": 4,
 "nbformat_minor": 5
}
