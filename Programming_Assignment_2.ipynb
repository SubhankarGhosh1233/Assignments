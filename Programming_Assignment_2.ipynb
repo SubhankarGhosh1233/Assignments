{
 "cells": [
  {
   "cell_type": "markdown",
   "id": "7a31e2d9",
   "metadata": {},
   "source": [
    "# Programming_Assignment_2"
   ]
  },
  {
   "cell_type": "markdown",
   "id": "cdeba60a",
   "metadata": {},
   "source": [
    "### 1. Write a Python program to convert kilometers to miles?"
   ]
  },
  {
   "cell_type": "code",
   "execution_count": 19,
   "id": "3f4f7540",
   "metadata": {
    "scrolled": true
   },
   "outputs": [
    {
     "name": "stdout",
     "output_type": "stream",
     "text": [
      "Please enter kilometers to convert: 50\n",
      "31.069\n"
     ]
    }
   ],
   "source": [
    "#1 kilometer is equal to 0.621371\n",
    "kilometer = float(input(\"Please enter kilometers to convert: \"))\n",
    "conversion_ratio = 0.621371\n",
    "miles = kilometer * conversion_ratio\n",
    "print(round(miles,3))"
   ]
  },
  {
   "cell_type": "markdown",
   "id": "82642697",
   "metadata": {},
   "source": [
    "### 2. Write a Python program to convert Celsius to Fahrenheit?"
   ]
  },
  {
   "cell_type": "code",
   "execution_count": 18,
   "id": "8c92c837",
   "metadata": {},
   "outputs": [
    {
     "name": "stdout",
     "output_type": "stream",
     "text": [
      "Please enter temperature in celsius: 1\n",
      "33.8\n"
     ]
    }
   ],
   "source": [
    "celsius  = float(input(\"Please enter temperature in celsius: \"))\n",
    "fahrenheit = (celsius * 1.8) + 32\n",
    "print (round(fahrenheit , 3))"
   ]
  },
  {
   "cell_type": "markdown",
   "id": "9e39351e",
   "metadata": {},
   "source": [
    "### 3. Write a Python program to display calendar?"
   ]
  },
  {
   "cell_type": "code",
   "execution_count": 26,
   "id": "776a1be7",
   "metadata": {},
   "outputs": [
    {
     "name": "stdout",
     "output_type": "stream",
     "text": [
      "Enter year: 2023\n",
      "Enter month: 3\n",
      "     March 2023\n",
      "Mo Tu We Th Fr Sa Su\n",
      "       1  2  3  4  5\n",
      " 6  7  8  9 10 11 12\n",
      "13 14 15 16 17 18 19\n",
      "20 21 22 23 24 25 26\n",
      "27 28 29 30 31\n",
      "\n"
     ]
    }
   ],
   "source": [
    "import calendar\n",
    "yy = int(input(\"Enter year: \"))\n",
    "mm = int(input(\"Enter month: \"))\n",
    "print(calendar.month(yy,mm))"
   ]
  },
  {
   "cell_type": "markdown",
   "id": "6b04a460",
   "metadata": {},
   "source": [
    "### 4. Write a Python program to solve quadratic equation?"
   ]
  },
  {
   "cell_type": "code",
   "execution_count": 3,
   "id": "c46f43c3",
   "metadata": {},
   "outputs": [
    {
     "name": "stdout",
     "output_type": "stream",
     "text": [
      "Enter a(a! = 0): 2\n",
      "Enter b: -8\n",
      "Enter c: 3\n",
      "the solution are (0.41886116991581024+0j) and (3.58113883008419+0j)\n"
     ]
    }
   ],
   "source": [
    "import cmath\n",
    "a = int(input(\"Enter a(a! = 0): \"))\n",
    "b = int(input(\"Enter b: \"))\n",
    "c = int(input(\"Enter c: \"))\n",
    "# value of discrimenent\n",
    "dis = (b**2)- (4*a*c)\n",
    "#negetive \n",
    "solution1 = (-b-cmath.sqrt(dis))/(2*a)\n",
    "#positive \n",
    "solution2 = (-b+cmath.sqrt(dis))/(2*a)\n",
    "print (\"the solution are {0} and {1}\".format(solution1 , solution2))"
   ]
  },
  {
   "cell_type": "markdown",
   "id": "c6dea3dd",
   "metadata": {},
   "source": [
    "### 5. Write a Python program to swap two variables without temp variable?"
   ]
  },
  {
   "cell_type": "code",
   "execution_count": 7,
   "id": "a21b889e",
   "metadata": {},
   "outputs": [
    {
     "name": "stdout",
     "output_type": "stream",
     "text": [
      "Before swapping value of x:  9 and y :  99\n",
      "After swapping value of x:  99 and y :  9\n"
     ]
    }
   ],
   "source": [
    "x = 9\n",
    "y = 99\n",
    "print(\"Before swapping value of x: \" , x ,\"and y : \", y)\n",
    "x , y = y , x\n",
    "print(\"After swapping value of x: \" , x ,\"and y : \", y)"
   ]
  },
  {
   "cell_type": "code",
   "execution_count": null,
   "id": "27526b40",
   "metadata": {},
   "outputs": [],
   "source": []
  }
 ],
 "metadata": {
  "kernelspec": {
   "display_name": "Python 3 (ipykernel)",
   "language": "python",
   "name": "python3"
  },
  "language_info": {
   "codemirror_mode": {
    "name": "ipython",
    "version": 3
   },
   "file_extension": ".py",
   "mimetype": "text/x-python",
   "name": "python",
   "nbconvert_exporter": "python",
   "pygments_lexer": "ipython3",
   "version": "3.9.12"
  }
 },
 "nbformat": 4,
 "nbformat_minor": 5
}
