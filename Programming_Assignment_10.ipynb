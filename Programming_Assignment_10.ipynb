{
 "cells": [
  {
   "cell_type": "markdown",
   "id": "f09b905f",
   "metadata": {},
   "source": [
    "# Programming_Assignment_10"
   ]
  },
  {
   "cell_type": "markdown",
   "id": "e33e2633",
   "metadata": {},
   "source": [
    "### 1. Write a Python program to find sum of elements in list?"
   ]
  },
  {
   "cell_type": "code",
   "execution_count": 1,
   "id": "a9741bc0",
   "metadata": {},
   "outputs": [
    {
     "name": "stdout",
     "output_type": "stream",
     "text": [
      "Sum of all elements in given list:  55\n"
     ]
    }
   ],
   "source": [
    "total = 0\n",
    "list1 = [1, 2, 3, 44, 5]\n",
    "for ele in range(0, len(list1)):\n",
    "    total = total + list1[ele]\n",
    "print(\"Sum of all elements in given list: \", total)"
   ]
  },
  {
   "cell_type": "markdown",
   "id": "ba7d1d7c",
   "metadata": {},
   "source": [
    "### 2. Write a Python program to Multiply all numbers in the list?"
   ]
  },
  {
   "cell_type": "code",
   "execution_count": 2,
   "id": "24386c84",
   "metadata": {},
   "outputs": [
    {
     "name": "stdout",
     "output_type": "stream",
     "text": [
      "Product of elements of the list:  120\n"
     ]
    }
   ],
   "source": [
    "import functools\n",
    "import operator\n",
    "list2 = [1, 2,3, 5,4]\n",
    "\n",
    "product = functools.reduce(operator.mul, list2)\n",
    "\n",
    "print(\"Product of elements of the list: \",product)\n"
   ]
  },
  {
   "cell_type": "markdown",
   "id": "4cf5d00f",
   "metadata": {},
   "source": [
    "### 3. Write a Python program to find smallest number in a list?"
   ]
  },
  {
   "cell_type": "code",
   "execution_count": 3,
   "id": "5e51f2d2",
   "metadata": {},
   "outputs": [
    {
     "name": "stdout",
     "output_type": "stream",
     "text": [
      "Smallest number is: 1\n"
     ]
    }
   ],
   "source": [
    "list3 = [1, 2, 3, 44, 5]\n",
    "print(\"Smallest number is:\", min(list3))"
   ]
  },
  {
   "cell_type": "markdown",
   "id": "a0c15077",
   "metadata": {},
   "source": [
    "### 4. Write a Python program to find largest number in a list?"
   ]
  },
  {
   "cell_type": "code",
   "execution_count": 4,
   "id": "d854cd13",
   "metadata": {},
   "outputs": [
    {
     "name": "stdout",
     "output_type": "stream",
     "text": [
      "Smallest number is: 44\n"
     ]
    }
   ],
   "source": [
    "list3 = [1, 2, 3, 44, 5]\n",
    "print(\"Smallest number is:\", max(list3))"
   ]
  },
  {
   "cell_type": "markdown",
   "id": "66b1e168",
   "metadata": {},
   "source": [
    "### 5. Write a Python program to find second largest number in a list?"
   ]
  },
  {
   "cell_type": "code",
   "execution_count": 5,
   "id": "3c07e0a7",
   "metadata": {},
   "outputs": [
    {
     "name": "stdout",
     "output_type": "stream",
     "text": [
      "Second largest element is: 5\n"
     ]
    }
   ],
   "source": [
    "list3 = [1, 2, 3, 44, 5]\n",
    "list4 = list(set(list3))\n",
    "list4.sort()\n",
    "print(\"Second largest element is:\", list4[-2])"
   ]
  },
  {
   "cell_type": "markdown",
   "id": "ab5be675",
   "metadata": {},
   "source": [
    "### 6. Write a Python program to find N largest elements from a list?"
   ]
  },
  {
   "cell_type": "code",
   "execution_count": 6,
   "id": "d398065b",
   "metadata": {},
   "outputs": [
    {
     "name": "stdout",
     "output_type": "stream",
     "text": [
      "[200, 900, 1000, 3579, 3900]\n"
     ]
    }
   ],
   "source": [
    "list5 = [1000,10,3579,100,200,-45,900,3900]\n",
    "N = 5\n",
    "list5.sort()\n",
    "print(list5[-N:])"
   ]
  },
  {
   "cell_type": "markdown",
   "id": "e38a0bfd",
   "metadata": {},
   "source": [
    "### 7. Write a Python program to print even numbers in a list?"
   ]
  },
  {
   "cell_type": "code",
   "execution_count": 7,
   "id": "4ea6e24b",
   "metadata": {},
   "outputs": [
    {
     "name": "stdout",
     "output_type": "stream",
     "text": [
      "even numbers in a list are: \n",
      "2 4 6 8 10 12 "
     ]
    }
   ],
   "source": [
    "list1 = [1.4,2,3,4,5,6,7,8,9,10,11,12]\n",
    "print(\"even numbers in a list are: \")\n",
    "for num in list1:\n",
    "    if num % 2 == 0:\n",
    "        print(num, end=\" \")"
   ]
  },
  {
   "cell_type": "markdown",
   "id": "7546f9ac",
   "metadata": {},
   "source": [
    "### 8. Write a Python program to print odd numbers in a List?"
   ]
  },
  {
   "cell_type": "code",
   "execution_count": 8,
   "id": "0938c702",
   "metadata": {},
   "outputs": [
    {
     "name": "stdout",
     "output_type": "stream",
     "text": [
      "odd numbers in a list are: \n",
      "1.4 3 5 7 9 11 "
     ]
    }
   ],
   "source": [
    "list1 = [1.4,2,3,4,5,6,7,8,9,10,11,12]\n",
    "print(\"odd numbers in a list are: \")\n",
    "for num in list1:\n",
    "    if num % 2 != 0:\n",
    "        print(num, end=\" \")"
   ]
  },
  {
   "cell_type": "markdown",
   "id": "bf24c315",
   "metadata": {},
   "source": [
    "### 9. Write a Python program to Remove empty List from List?"
   ]
  },
  {
   "cell_type": "code",
   "execution_count": 9,
   "id": "a56d9034",
   "metadata": {},
   "outputs": [
    {
     "name": "stdout",
     "output_type": "stream",
     "text": [
      "The original list is : [1.4, 2, [], 3, 4, 5, 6, [], 7, 8, 9, [], 10, 11, 12]\n",
      "List after empty list removal : [1.4, 2, 3, 4, 5, 6, 7, 8, 9, 10, 11, 12]\n"
     ]
    }
   ],
   "source": [
    "list1 = [1.4,2,[],3,4,5,6,[],7,8,9,[],10,11,12]\n",
    "print(\"The original list is : \" + str(list1))\n",
    "while [] in list1 :\n",
    "    list1.remove([])\n",
    "print(\"List after empty list removal : \" + str(list1))"
   ]
  },
  {
   "cell_type": "markdown",
   "id": "ad634e83",
   "metadata": {},
   "source": [
    "### 10. Write a Python program to Cloning or Copying a list?"
   ]
  },
  {
   "cell_type": "code",
   "execution_count": 10,
   "id": "dad8570c",
   "metadata": {},
   "outputs": [
    {
     "name": "stdout",
     "output_type": "stream",
     "text": [
      "[1.4, 2, 3, 4, 5, 6, 7, 8, 9, 10, 11, 12]\n",
      "[1.4, 2, 3, 4, 5, 6, 7, 8, 9, 10, 11, 12]\n"
     ]
    }
   ],
   "source": [
    "list1 = [1.4,2,3,4,5,6,7,8,9,10,11,12]\n",
    "new_list = list(list1)\n",
    "print(list1)\n",
    "print(new_list)"
   ]
  },
  {
   "cell_type": "markdown",
   "id": "4d75b7b4",
   "metadata": {},
   "source": [
    "### 11. Write a Python program to Count occurrences of an element in a list?"
   ]
  },
  {
   "cell_type": "code",
   "execution_count": 11,
   "id": "20582f9c",
   "metadata": {},
   "outputs": [
    {
     "name": "stdout",
     "output_type": "stream",
     "text": [
      "2 has occurred 3 times\n"
     ]
    }
   ],
   "source": [
    "from collections import Counter\n",
    "list1 = [1.4,2,3,4,5,6,7,8,2,9,10,11,2,12]\n",
    "x = 2\n",
    "d = Counter(list1)\n",
    "print('{} has occurred {} times'.format(x, d[x]))"
   ]
  }
 ],
 "metadata": {
  "kernelspec": {
   "display_name": "Python 3 (ipykernel)",
   "language": "python",
   "name": "python3"
  },
  "language_info": {
   "codemirror_mode": {
    "name": "ipython",
    "version": 3
   },
   "file_extension": ".py",
   "mimetype": "text/x-python",
   "name": "python",
   "nbconvert_exporter": "python",
   "pygments_lexer": "ipython3",
   "version": "3.9.12"
  }
 },
 "nbformat": 4,
 "nbformat_minor": 5
}
