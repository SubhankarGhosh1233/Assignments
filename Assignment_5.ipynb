{
 "cells": [
  {
   "cell_type": "markdown",
   "id": "c718ca43",
   "metadata": {},
   "source": [
    "# Assignment_5"
   ]
  },
  {
   "cell_type": "markdown",
   "id": "493605f5",
   "metadata": {},
   "source": [
    "### 1. What does an empty dictionary&#39;s code look like?\n"
   ]
  },
  {
   "cell_type": "markdown",
   "id": "eefc77da",
   "metadata": {},
   "source": [
    "Ans: Open and close curly brackets{}."
   ]
  },
  {
   "cell_type": "markdown",
   "id": "14bbba1f",
   "metadata": {},
   "source": [
    "### 2. What is the value of a dictionary value with the key &#39;foo&#39; and the value 42?\n"
   ]
  },
  {
   "cell_type": "markdown",
   "id": "96892310",
   "metadata": {},
   "source": [
    "Ans: {'foo': 42}"
   ]
  },
  {
   "cell_type": "markdown",
   "id": "901f9b13",
   "metadata": {},
   "source": [
    "### 3. What is the most significant distinction between a dictionary and a list?\n"
   ]
  },
  {
   "cell_type": "markdown",
   "id": "362177a9",
   "metadata": {},
   "source": [
    "Ans: The items stored in a dictionary are unordered, while the items in a list are ordered."
   ]
  },
  {
   "cell_type": "markdown",
   "id": "7f842309",
   "metadata": {},
   "source": [
    "### 4. What happens if you try to access spam[&#39;foo&#39;] if spam is {&#39;bar&#39;: 100}?\n"
   ]
  },
  {
   "cell_type": "markdown",
   "id": "d53ba75c",
   "metadata": {},
   "source": [
    "Ans: I get a KeyError error."
   ]
  },
  {
   "cell_type": "markdown",
   "id": "9b542a60",
   "metadata": {},
   "source": [
    "### 5. If a dictionary is stored in spam, what is the difference between the expressions &#39;cat&#39; in spam and &#39;cat&#39; in spam.keys()?\n"
   ]
  },
  {
   "cell_type": "markdown",
   "id": "8c7232f3",
   "metadata": {},
   "source": [
    "Ans: There is no difference. The in operator checks whether a value exists as a key in the dictionary."
   ]
  },
  {
   "cell_type": "markdown",
   "id": "e3194840",
   "metadata": {},
   "source": [
    "### 6. If a dictionary is stored in spam, what is the difference between the expressions &#39;cat&#39; in spam and &#39;cat&#39; in spam.values()?\n"
   ]
  },
  {
   "cell_type": "markdown",
   "id": "85c7a5c3",
   "metadata": {},
   "source": [
    "Ans: 'cat' in spam checks whether there is a 'cat' key in the dictionary, while 'cat' in spam.values() checks whether there is a value 'cat' for one of the keys in spam."
   ]
  },
  {
   "cell_type": "markdown",
   "id": "2fc0e17f",
   "metadata": {},
   "source": [
    "### 7. What is a shortcut for the following code?if &#39;color&#39; not in spam: spam[&#39;color&#39;] = &#39;black&#39;\n",
    "\n"
   ]
  },
  {
   "cell_type": "markdown",
   "id": "c55b0a19",
   "metadata": {},
   "source": [
    "Ans: spam.setdefault('color', 'black')"
   ]
  },
  {
   "cell_type": "markdown",
   "id": "e478ec75",
   "metadata": {},
   "source": [
    "### 8. How do you &quot;pretty print&quot; dictionary values using which module and function?"
   ]
  },
  {
   "cell_type": "markdown",
   "id": "b530acc4",
   "metadata": {},
   "source": [
    "Ans: pprint.pprint()"
   ]
  },
  {
   "cell_type": "code",
   "execution_count": null,
   "id": "57db602d",
   "metadata": {},
   "outputs": [],
   "source": []
  }
 ],
 "metadata": {
  "kernelspec": {
   "display_name": "Python 3 (ipykernel)",
   "language": "python",
   "name": "python3"
  },
  "language_info": {
   "codemirror_mode": {
    "name": "ipython",
    "version": 3
   },
   "file_extension": ".py",
   "mimetype": "text/x-python",
   "name": "python",
   "nbconvert_exporter": "python",
   "pygments_lexer": "ipython3",
   "version": "3.9.12"
  }
 },
 "nbformat": 4,
 "nbformat_minor": 5
}
