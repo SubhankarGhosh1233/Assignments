{
 "cells": [
  {
   "cell_type": "markdown",
   "id": "4fcf762d",
   "metadata": {},
   "source": [
    "# Assignment_21"
   ]
  },
  {
   "cell_type": "markdown",
   "id": "0fe518cf",
   "metadata": {},
   "source": [
    "### 1. Add the current date to the text file today.txt as a string.\n"
   ]
  },
  {
   "cell_type": "code",
   "execution_count": 1,
   "id": "d2a94a14",
   "metadata": {},
   "outputs": [],
   "source": [
    "from datetime import date\n",
    "now = date.today()\n",
    "now_string = now.isoformat()\n",
    "with open(\"today.txt\", \"wt\") as file:\n",
    "    print(now_string,file=file)"
   ]
  },
  {
   "cell_type": "markdown",
   "id": "662abeb8",
   "metadata": {},
   "source": [
    "### 2. Read the text file today.txt into the string today_string"
   ]
  },
  {
   "cell_type": "code",
   "execution_count": 2,
   "id": "b6be6210",
   "metadata": {},
   "outputs": [
    {
     "data": {
      "text/plain": [
       "'2023-01-11\\n'"
      ]
     },
     "execution_count": 2,
     "metadata": {},
     "output_type": "execute_result"
    }
   ],
   "source": [
    "with open (\"today.txt\",\"rt\") as input:\n",
    "    today_string = input.read()\n",
    "today_string"
   ]
  },
  {
   "cell_type": "markdown",
   "id": "b61861cb",
   "metadata": {},
   "source": [
    "### 3. Parse the date from today_string.\n"
   ]
  },
  {
   "cell_type": "code",
   "execution_count": 3,
   "id": "1561f3ad",
   "metadata": {},
   "outputs": [
    {
     "data": {
      "text/plain": [
       "datetime.datetime(2023, 1, 11, 0, 0)"
      ]
     },
     "execution_count": 3,
     "metadata": {},
     "output_type": "execute_result"
    }
   ],
   "source": [
    "from datetime import datetime\n",
    "fomt = '%Y-%m-%d\\n'\n",
    "datetime.strptime(today_string, fomt)"
   ]
  },
  {
   "cell_type": "markdown",
   "id": "1408a6f5",
   "metadata": {},
   "source": [
    "### 4. List the files in your current directory\n"
   ]
  },
  {
   "cell_type": "code",
   "execution_count": 4,
   "id": "77f69e05",
   "metadata": {},
   "outputs": [
    {
     "data": {
      "text/plain": [
       "['CV Assignment', 'ML_Assignment', 'NLP Assignment', 'Python', 'Python Basics']"
      ]
     },
     "execution_count": 4,
     "metadata": {},
     "output_type": "execute_result"
    }
   ],
   "source": [
    "import os\n",
    "os.listdir('..')"
   ]
  },
  {
   "cell_type": "markdown",
   "id": "f288100f",
   "metadata": {},
   "source": [
    "### 5. Create a list of all of the files in your parent directory (minimum five files should be available).\n"
   ]
  },
  {
   "cell_type": "code",
   "execution_count": 5,
   "id": "54c97493",
   "metadata": {},
   "outputs": [
    {
     "data": {
      "text/plain": [
       "['CV Assignment', 'ML_Assignment', 'NLP Assignment', 'Python', 'Python Basics']"
      ]
     },
     "execution_count": 5,
     "metadata": {},
     "output_type": "execute_result"
    }
   ],
   "source": [
    "list_files =os.listdir('..')\n",
    "list_files"
   ]
  },
  {
   "cell_type": "code",
   "execution_count": 6,
   "id": "daa3ceb1",
   "metadata": {},
   "outputs": [
    {
     "data": {
      "text/plain": [
       "'Python'"
      ]
     },
     "execution_count": 6,
     "metadata": {},
     "output_type": "execute_result"
    }
   ],
   "source": [
    "list_files[3]\n"
   ]
  },
  {
   "cell_type": "markdown",
   "id": "30565dbd",
   "metadata": {},
   "source": [
    "### 6. Use multiprocessing to create three separate processes. Make each one wait a random number of seconds between one and five, print the current time, and then exit.\n"
   ]
  },
  {
   "cell_type": "code",
   "execution_count": 7,
   "id": "f6a08541",
   "metadata": {},
   "outputs": [],
   "source": [
    "import multiprocessing\n",
    "def now(seconds):\n",
    "    from datetime import datetime    \n",
    "    from time import sleep    \n",
    "    sleep(seconds)    \n",
    "    print('wait', seconds, 'seconds, time is', datetime.utcnow())\n",
    "if __name__ == '__main__':\n",
    "    import random\n",
    "    for n in range(3):        \n",
    "        seconds = random.random()        \n",
    "        proc = multiprocessing.Process(target=now, args=(seconds,))        \n",
    "        proc.start()\n"
   ]
  },
  {
   "cell_type": "markdown",
   "id": "0a10f8a5",
   "metadata": {},
   "source": [
    "### 7. Create a date object of your day of birth.\n"
   ]
  },
  {
   "cell_type": "code",
   "execution_count": 8,
   "id": "4bd926b2",
   "metadata": {},
   "outputs": [
    {
     "data": {
      "text/plain": [
       "datetime.date(1998, 8, 7)"
      ]
     },
     "execution_count": 8,
     "metadata": {},
     "output_type": "execute_result"
    }
   ],
   "source": [
    "my_day = date(1998, 8, 7)\n",
    "my_day"
   ]
  },
  {
   "cell_type": "markdown",
   "id": "c6c5d904",
   "metadata": {},
   "source": [
    "### 8. What day of the week was your day of birth?\n"
   ]
  },
  {
   "cell_type": "code",
   "execution_count": 9,
   "id": "1fda6c5d",
   "metadata": {},
   "outputs": [
    {
     "data": {
      "text/plain": [
       "5"
      ]
     },
     "execution_count": 9,
     "metadata": {},
     "output_type": "execute_result"
    }
   ],
   "source": [
    "my_day.isoweekday()# Friday"
   ]
  },
  {
   "cell_type": "markdown",
   "id": "76e8ea11",
   "metadata": {},
   "source": [
    "### 9. When will you be (or when were you) 10,000 days old?"
   ]
  },
  {
   "cell_type": "code",
   "execution_count": 10,
   "id": "d182ab1b",
   "metadata": {},
   "outputs": [
    {
     "data": {
      "text/plain": [
       "datetime.date(2025, 12, 23)"
      ]
     },
     "execution_count": 10,
     "metadata": {},
     "output_type": "execute_result"
    }
   ],
   "source": [
    "from datetime import timedelta\n",
    "up_day = my_day + timedelta(days=10000)\n",
    "up_day"
   ]
  }
 ],
 "metadata": {
  "kernelspec": {
   "display_name": "Python 3 (ipykernel)",
   "language": "python",
   "name": "python3"
  },
  "language_info": {
   "codemirror_mode": {
    "name": "ipython",
    "version": 3
   },
   "file_extension": ".py",
   "mimetype": "text/x-python",
   "name": "python",
   "nbconvert_exporter": "python",
   "pygments_lexer": "ipython3",
   "version": "3.9.12"
  }
 },
 "nbformat": 4,
 "nbformat_minor": 5
}
