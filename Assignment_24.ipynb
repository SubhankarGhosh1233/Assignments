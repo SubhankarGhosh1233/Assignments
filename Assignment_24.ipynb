{
 "cells": [
  {
   "cell_type": "markdown",
   "id": "41440fe1",
   "metadata": {},
   "source": [
    "# Assignment_24\n"
   ]
  },
  {
   "cell_type": "markdown",
   "id": "2d1896c8",
   "metadata": {},
   "source": [
    "### 1. What is the relationship between def statements and lambda expressions ?"
   ]
  },
  {
   "cell_type": "markdown",
   "id": "bea561a8",
   "metadata": {},
   "source": [
    "Ans: def statements and lambda expressions create the same kind of function, they have the same kind of metadata and capabilities."
   ]
  },
  {
   "cell_type": "markdown",
   "id": "566bfd7a",
   "metadata": {},
   "source": [
    "### 2. What is the benefit of lambda?"
   ]
  },
  {
   "cell_type": "markdown",
   "id": "44efb337",
   "metadata": {},
   "source": [
    "Ans: Lambda function reduce the number of the lines of code when compared to normal python function. They are generallyused when a function is needed temporarily for a short period of time. Using lambda function, you can define a function and call it immediately at the end of definition, this can not be done with def function."
   ]
  },
  {
   "cell_type": "markdown",
   "id": "5fc8e66f",
   "metadata": {},
   "source": [
    "### 3. Compare and contrast map, filter, and reduce."
   ]
  },
  {
   "cell_type": "markdown",
   "id": "0a1aaefe",
   "metadata": {},
   "source": [
    "Ans: \n",
    "1. The map() function iterates through all items in the given iterable and executes the function we passed as an argument on each of them. We can pass as many iterable objects as we want after passing the function we want to use.\n",
    "2. Similar to map(), filter() takes a function object and an iterable and creates a new list.\n",
    "3. reduce() works differently than map() and filter(). It does not return a new list based on the function and iterable we've passed. Instead, it returns a single value."
   ]
  },
  {
   "cell_type": "markdown",
   "id": "a3b3447f",
   "metadata": {},
   "source": [
    "### 4. What are function annotations, and how are they used?"
   ]
  },
  {
   "cell_type": "markdown",
   "id": "680ea0c2",
   "metadata": {},
   "source": [
    "Ans: Function annotations are arbitrary python expressions that are associated with various part of functions. These expressions are evaluated at compile time and have no life in python’s runtime environment. Python does not attach any meaning to these annotations."
   ]
  },
  {
   "cell_type": "markdown",
   "id": "e2b58b4e",
   "metadata": {},
   "source": [
    "### 5. What are recursive functions, and how are they used?"
   ]
  },
  {
   "cell_type": "markdown",
   "id": "bf1d96c1",
   "metadata": {},
   "source": [
    "Ans: Recursive function:A function which calls itself from its previous value to generate subsequent value."
   ]
  },
  {
   "cell_type": "markdown",
   "id": "63f73ca6",
   "metadata": {},
   "source": [
    "To make the function recursive, it requires its own term to figure out the next term in the sequence. For example, if we want to find out the nth term in the sequence, we need to know the previous term and also the term before the previous term. Hence, we need to know the previous term to determine whether the sequence is recursive or not recursive. So we can say that, if the function requires the previous term to find the next term in the sequence, then the function is a recursive function. Most of the recursive functions will provide the beginning value of the sequence and the formula that helps to generate the next terms in the sequence."
   ]
  },
  {
   "cell_type": "markdown",
   "id": "d80d1750",
   "metadata": {},
   "source": [
    "### 6. What are some general design guidelines for coding functions?"
   ]
  },
  {
   "cell_type": "markdown",
   "id": "63d31970",
   "metadata": {},
   "source": [
    "Ans: Proper indentation is very important, Avoid using a coding style that is too difficult to understand,Offers uniformity to the code created by different engineers.\n",
    "Makes it easier to detect errors.Make code simpler, more readable, and easier to maintain."
   ]
  },
  {
   "cell_type": "markdown",
   "id": "f1a819d5",
   "metadata": {},
   "source": [
    "### 7. Name three or more ways that functions can communicate results to a caller."
   ]
  },
  {
   "cell_type": "markdown",
   "id": "4bfc11a8",
   "metadata": {},
   "source": [
    "Ans: Function can send back results with return statements, by changing passed-inmutable arguments, and by setting global variables. Globals are generally forowned upon because they can make code harder to understand and use. Return statements are usually best, but changing mutables is fine, if expected. Function may also communicate with system devices such as file and sockets. "
   ]
  }
 ],
 "metadata": {
  "kernelspec": {
   "display_name": "Python 3 (ipykernel)",
   "language": "python",
   "name": "python3"
  },
  "language_info": {
   "codemirror_mode": {
    "name": "ipython",
    "version": 3
   },
   "file_extension": ".py",
   "mimetype": "text/x-python",
   "name": "python",
   "nbconvert_exporter": "python",
   "pygments_lexer": "ipython3",
   "version": "3.9.12"
  }
 },
 "nbformat": 4,
 "nbformat_minor": 5
}
