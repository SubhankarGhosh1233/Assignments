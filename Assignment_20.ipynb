{
 "cells": [
  {
   "cell_type": "markdown",
   "id": "ff334319",
   "metadata": {},
   "source": [
    "# Assignment_20"
   ]
  },
  {
   "cell_type": "markdown",
   "id": "74dff1b6",
   "metadata": {},
   "source": [
    "### 1. Set the variable test1 to the string &#39;This is a test of the emergency text system,&#39; and save test1 to a file named test.txt.\n"
   ]
  },
  {
   "cell_type": "code",
   "execution_count": 1,
   "id": "8acfe83d",
   "metadata": {},
   "outputs": [
    {
     "data": {
      "text/plain": [
       "44"
      ]
     },
     "execution_count": 1,
     "metadata": {},
     "output_type": "execute_result"
    }
   ],
   "source": [
    "test1 = \"This is a test of the emergency text system,\"\n",
    "s = open(\"test.txt\",\"w\")\n",
    "s.write(test1)\n"
   ]
  },
  {
   "cell_type": "markdown",
   "id": "8e5fd592",
   "metadata": {},
   "source": [
    "### 2. Read the contents of the file test.txt into the variable test2. Is there a difference between test 1 and test 2?\n"
   ]
  },
  {
   "cell_type": "code",
   "execution_count": 2,
   "id": "ef49ed21",
   "metadata": {},
   "outputs": [
    {
     "data": {
      "text/plain": [
       "'This is a test of the emergency text system,'"
      ]
     },
     "execution_count": 2,
     "metadata": {},
     "output_type": "execute_result"
    }
   ],
   "source": [
    "test1"
   ]
  },
  {
   "cell_type": "code",
   "execution_count": 3,
   "id": "f237b858",
   "metadata": {},
   "outputs": [
    {
     "data": {
      "text/plain": [
       "''"
      ]
     },
     "execution_count": 3,
     "metadata": {},
     "output_type": "execute_result"
    }
   ],
   "source": [
    "f= open(\"test.txt\", \"r\")\n",
    "test2 = f.read()\n",
    "test2"
   ]
  },
  {
   "cell_type": "markdown",
   "id": "435634fa",
   "metadata": {},
   "source": [
    "There Is not any difference between test 1 and test 2, both are same."
   ]
  },
  {
   "cell_type": "markdown",
   "id": "0bd1a9cc",
   "metadata": {},
   "source": [
    "### 3. Create a CSV file called books.csv by using these lines:\n",
    "title,author,year\n",
    "The Weirdstone of Brisingamen,Alan Garner,1960\n",
    "Perdido Street Station,China Miéville,2000\n",
    "Thud!,Terry Pratchett,2005\n",
    "The Spellman Files,Lisa Lutz,2007\n",
    "Small Gods,Terry Pratchett,1992\n"
   ]
  },
  {
   "cell_type": "code",
   "execution_count": 4,
   "id": "3717085e",
   "metadata": {},
   "outputs": [],
   "source": [
    "import csv\n",
    "rows = [[\"title\",\"author\",\"year\"],\n",
    "[\"The Weirdstone of Brisingamen\",\"Alan Garner\",1960],\n",
    "[\"Perdido Street Station\",\"China Miéville\",2000],\n",
    "[\"Thud!\",\"Terry Pratchett\",2005],\n",
    "[\"The Spellman Files\",\"Lisa Lutz\",2007],\n",
    "[\"Small Gods\",\"Terry Pratchett\",1992]]\n",
    "with open(\"book.csv\",\"w\",newline= \"\") as file:\n",
    "    wrt = csv.writer(file)\n",
    "    wrt.writerows(rows)"
   ]
  },
  {
   "cell_type": "markdown",
   "id": "7e97c84e",
   "metadata": {},
   "source": [
    "### 4. Use the sqlite3 module to create a SQLite database called books.db, and a table called books with these fields: title (text), author (text), and year (integer).\n"
   ]
  },
  {
   "cell_type": "code",
   "execution_count": 5,
   "id": "083ed856",
   "metadata": {},
   "outputs": [],
   "source": [
    "import sqlite3 \n",
    "mydb = sqlite3.connect(\"book.db\")\n",
    "cursor = mydb.cursor()\n",
    "cursor.execute(\"create table book(title varchar(30),author varchar(30), year int)\")\n",
    "mydb.commit()"
   ]
  },
  {
   "cell_type": "markdown",
   "id": "c62b32a3",
   "metadata": {},
   "source": [
    "### 5. Read books.csv and insert its data into the book table."
   ]
  },
  {
   "cell_type": "code",
   "execution_count": 6,
   "id": "d5061923",
   "metadata": {},
   "outputs": [
    {
     "data": {
      "text/plain": [
       "5"
      ]
     },
     "execution_count": 6,
     "metadata": {},
     "output_type": "execute_result"
    }
   ],
   "source": [
    "import pandas as pd\n",
    "r = pd.read_csv(\"book.csv\", encoding=\"latin-1\")\n",
    "r.to_sql(\"book\", mydb , if_exists=\"append\",index=False)\n"
   ]
  },
  {
   "cell_type": "markdown",
   "id": "dda3e19e",
   "metadata": {},
   "source": [
    "### 6. Select and print the title column from the book table in alphabetical order.\n"
   ]
  },
  {
   "cell_type": "code",
   "execution_count": 7,
   "id": "95ddf618",
   "metadata": {},
   "outputs": [
    {
     "data": {
      "text/plain": [
       "<sqlite3.Cursor at 0x2417fb861f0>"
      ]
     },
     "execution_count": 7,
     "metadata": {},
     "output_type": "execute_result"
    }
   ],
   "source": [
    "cursor.execute(\"select title from book order by title asc\")"
   ]
  },
  {
   "cell_type": "code",
   "execution_count": 8,
   "id": "89ff86c8",
   "metadata": {},
   "outputs": [
    {
     "data": {
      "text/plain": [
       "[('Perdido Street Station',),\n",
       " ('Small Gods',),\n",
       " ('The Spellman Files',),\n",
       " ('The Weirdstone of Brisingamen',),\n",
       " ('Thud!',)]"
      ]
     },
     "execution_count": 8,
     "metadata": {},
     "output_type": "execute_result"
    }
   ],
   "source": [
    "cursor.fetchall()"
   ]
  },
  {
   "cell_type": "markdown",
   "id": "8eab7793",
   "metadata": {},
   "source": [
    "### 7. From the book table, select and print all columns in the order of publication.\n"
   ]
  },
  {
   "cell_type": "code",
   "execution_count": 9,
   "id": "255388cd",
   "metadata": {},
   "outputs": [
    {
     "data": {
      "text/html": [
       "<div>\n",
       "<style scoped>\n",
       "    .dataframe tbody tr th:only-of-type {\n",
       "        vertical-align: middle;\n",
       "    }\n",
       "\n",
       "    .dataframe tbody tr th {\n",
       "        vertical-align: top;\n",
       "    }\n",
       "\n",
       "    .dataframe thead th {\n",
       "        text-align: right;\n",
       "    }\n",
       "</style>\n",
       "<table border=\"1\" class=\"dataframe\">\n",
       "  <thead>\n",
       "    <tr style=\"text-align: right;\">\n",
       "      <th></th>\n",
       "      <th>title</th>\n",
       "      <th>author</th>\n",
       "      <th>year</th>\n",
       "    </tr>\n",
       "  </thead>\n",
       "  <tbody>\n",
       "    <tr>\n",
       "      <th>0</th>\n",
       "      <td>The Weirdstone of Brisingamen</td>\n",
       "      <td>Alan Garner</td>\n",
       "      <td>1960</td>\n",
       "    </tr>\n",
       "    <tr>\n",
       "      <th>1</th>\n",
       "      <td>Small Gods</td>\n",
       "      <td>Terry Pratchett</td>\n",
       "      <td>1992</td>\n",
       "    </tr>\n",
       "    <tr>\n",
       "      <th>2</th>\n",
       "      <td>Perdido Street Station</td>\n",
       "      <td>China Miéville</td>\n",
       "      <td>2000</td>\n",
       "    </tr>\n",
       "    <tr>\n",
       "      <th>3</th>\n",
       "      <td>Thud!</td>\n",
       "      <td>Terry Pratchett</td>\n",
       "      <td>2005</td>\n",
       "    </tr>\n",
       "    <tr>\n",
       "      <th>4</th>\n",
       "      <td>The Spellman Files</td>\n",
       "      <td>Lisa Lutz</td>\n",
       "      <td>2007</td>\n",
       "    </tr>\n",
       "  </tbody>\n",
       "</table>\n",
       "</div>"
      ],
      "text/plain": [
       "                           title           author  year\n",
       "0  The Weirdstone of Brisingamen      Alan Garner  1960\n",
       "1                     Small Gods  Terry Pratchett  1992\n",
       "2         Perdido Street Station   China Miéville  2000\n",
       "3                          Thud!  Terry Pratchett  2005\n",
       "4             The Spellman Files        Lisa Lutz  2007"
      ]
     },
     "execution_count": 9,
     "metadata": {},
     "output_type": "execute_result"
    }
   ],
   "source": [
    "cursor.execute(\"select title ,author , year   from book order by year\")\n",
    "df = pd.DataFrame(cursor.fetchall() , columns=[\"title\" ,\"author\" , \"year\"])\n",
    "df"
   ]
  },
  {
   "cell_type": "markdown",
   "id": "ee76f42e",
   "metadata": {},
   "source": [
    "### 8. Use the sqlalchemy module to connect to the sqlite3 database books.db that you just made in exercise 6.\n"
   ]
  },
  {
   "cell_type": "code",
   "execution_count": 10,
   "id": "363e2b05",
   "metadata": {},
   "outputs": [
    {
     "name": "stdout",
     "output_type": "stream",
     "text": [
      "('The Weirdstone of Brisingamen', 'Alan Garner', 1960)\n",
      "('Perdido Street Station', 'China Miéville', 2000)\n",
      "('Thud!', 'Terry Pratchett', 2005)\n",
      "('The Spellman Files', 'Lisa Lutz', 2007)\n",
      "('Small Gods', 'Terry Pratchett', 1992)\n"
     ]
    }
   ],
   "source": [
    "import sqlalchemy\n",
    "engine =sqlalchemy.create_engine(\"sqlite:///book.db\")\n",
    "rows =engine.execute(\"select * from book\")\n",
    "for i in rows:\n",
    "    print(i)"
   ]
  },
  {
   "cell_type": "markdown",
   "id": "ff495a51",
   "metadata": {},
   "source": [
    "### 9. Install the Redis server and the Python redis library (pip install redis) on your computer. Create a Redis hash called test with the fields count (1) and name (&#39;Fester Bestertester&#39;). Print all the fields for test.\n"
   ]
  },
  {
   "cell_type": "code",
   "execution_count": 1,
   "id": "963c1315",
   "metadata": {},
   "outputs": [
    {
     "name": "stdout",
     "output_type": "stream",
     "text": [
      "Requirement already satisfied: redis in c:\\users\\pc\\anaconda3\\lib\\site-packages (4.4.0)\n",
      "Requirement already satisfied: async-timeout>=4.0.2 in c:\\users\\pc\\anaconda3\\lib\\site-packages (from redis) (4.0.2)\n"
     ]
    },
    {
     "name": "stderr",
     "output_type": "stream",
     "text": [
      "\n",
      "[notice] A new release of pip available: 22.2.2 -> 22.3.1\n",
      "[notice] To update, run: python.exe -m pip install --upgrade pip\n"
     ]
    }
   ],
   "source": [
    "!pip install redis"
   ]
  },
  {
   "cell_type": "code",
   "execution_count": null,
   "id": "493a12f3",
   "metadata": {},
   "outputs": [],
   "source": [
    "import redis\n",
    "connection = redis.Redis()\n",
    "connection.delete(\"test\")\n",
    "connection.hmset(\"test\" , {\"count\" : 1 , \"name\": 'Fester Bestertester'})\n",
    "connection.hgetall(\"test\")"
   ]
  },
  {
   "cell_type": "markdown",
   "id": "d40c4f9d",
   "metadata": {},
   "source": [
    "### 10. Increment the count field of test and print it."
   ]
  },
  {
   "cell_type": "code",
   "execution_count": null,
   "id": "26acbe8b",
   "metadata": {},
   "outputs": [],
   "source": [
    "connection.hincrby(\"test\", \"count\" , 3)"
   ]
  },
  {
   "cell_type": "code",
   "execution_count": null,
   "id": "ba6c55a8",
   "metadata": {},
   "outputs": [],
   "source": []
  }
 ],
 "metadata": {
  "kernelspec": {
   "display_name": "Python 3 (ipykernel)",
   "language": "python",
   "name": "python3"
  },
  "language_info": {
   "codemirror_mode": {
    "name": "ipython",
    "version": 3
   },
   "file_extension": ".py",
   "mimetype": "text/x-python",
   "name": "python",
   "nbconvert_exporter": "python",
   "pygments_lexer": "ipython3",
   "version": "3.9.12"
  }
 },
 "nbformat": 4,
 "nbformat_minor": 5
}
