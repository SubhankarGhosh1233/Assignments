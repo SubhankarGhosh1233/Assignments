{
 "cells": [
  {
   "cell_type": "markdown",
   "id": "82516ddf",
   "metadata": {},
   "source": [
    "# Programming_Assignment_8\n"
   ]
  },
  {
   "cell_type": "markdown",
   "id": "cb254d8b",
   "metadata": {},
   "source": [
    "### 1. Write a Python Program to Add Two Matrices?"
   ]
  },
  {
   "cell_type": "code",
   "execution_count": 5,
   "id": "1118a610",
   "metadata": {},
   "outputs": [
    {
     "name": "stdout",
     "output_type": "stream",
     "text": [
      "[8, 10, 12]\n",
      "[14, 16, 18]\n"
     ]
    }
   ],
   "source": [
    "A = [[1,2,3],\n",
    "     [4 ,5,6]]\n",
    "\n",
    "B = [[7,8,9],\n",
    "     [10,11,12]]\n",
    "\n",
    "result = [[0,0,0],\n",
    "          [0,0,0]]\n",
    "for x in range(len(A)):\n",
    "    for y in range(len(A[0])):\n",
    "        result[x][y] = A[x][y] + B[x][y]\n",
    "\n",
    "for q in result:\n",
    "    print(q)"
   ]
  },
  {
   "cell_type": "markdown",
   "id": "0380c2a3",
   "metadata": {},
   "source": [
    "### 2. Write a Python Program to Multiply Two Matrices?"
   ]
  },
  {
   "cell_type": "code",
   "execution_count": 17,
   "id": "91480f70",
   "metadata": {},
   "outputs": [
    {
     "name": "stdout",
     "output_type": "stream",
     "text": [
      "[19, 22]\n",
      "[43, 50]\n"
     ]
    }
   ],
   "source": [
    "A = [[1,2],\n",
    "     [3 ,4]]\n",
    "\n",
    "B = [[5,6],\n",
    "     [7,8]]\n",
    "\n",
    "result = [[0,0],\n",
    "          [0,0]]\n",
    "\n",
    "for i in range(len(A)):\n",
    "    for j in range(len(B[0])):\n",
    "        for k in range(len(B)):\n",
    "            result[i][j] += A[i][k] * B[k][j]\n",
    "for l in result:\n",
    "    print(l)"
   ]
  },
  {
   "cell_type": "markdown",
   "id": "d4666075",
   "metadata": {},
   "source": [
    "### 3. Write a Python Program to Transpose a Matrix?"
   ]
  },
  {
   "cell_type": "code",
   "execution_count": 19,
   "id": "7b162064",
   "metadata": {},
   "outputs": [
    {
     "name": "stdout",
     "output_type": "stream",
     "text": [
      "[1, 3, 5]\n",
      "[2, 4, 6]\n"
     ]
    }
   ],
   "source": [
    "X = [[1, 2], [3,4], [5,6]]\n",
    "\n",
    "result = [[0, 0, 0], [0, 0, 0]]\n",
    "\n",
    "for i in range (len (X)):\n",
    "    for j in range (len (X[0])):\n",
    "        result [j][i] = X [i][j]\n",
    "for l in result:\n",
    "    print (l)"
   ]
  },
  {
   "cell_type": "markdown",
   "id": "834c4b43",
   "metadata": {},
   "source": [
    "### 4. Write a Python Program to Sort Words in Alphabetic Order?"
   ]
  },
  {
   "cell_type": "code",
   "execution_count": 14,
   "id": "b2da7236",
   "metadata": {},
   "outputs": [
    {
     "name": "stdout",
     "output_type": "stream",
     "text": [
      "Enter a string: the quick brown fox\n",
      "brown\n",
      "fox\n",
      "quick\n",
      "the\n"
     ]
    }
   ],
   "source": [
    "my_str = input(\"Enter a string: \")  \n",
    "words = my_str.split()  \n",
    "words.sort()  \n",
    "for word in words:\n",
    "    print(word)  "
   ]
  },
  {
   "cell_type": "markdown",
   "id": "88f15f64",
   "metadata": {},
   "source": [
    "### 5. Write a Python Program to Remove Punctuation From a String?"
   ]
  },
  {
   "cell_type": "code",
   "execution_count": 17,
   "id": "ab783643",
   "metadata": {},
   "outputs": [
    {
     "name": "stdout",
     "output_type": "stream",
     "text": [
      "Enter a string: the quick $ brown fox jumped, over the lazy dog.\n",
      "the quick  brown fox jumped over the lazy dog\n"
     ]
    }
   ],
   "source": [
    "remove_punctuation = '''''!()-[]{};:'\"\\,<>./?@#$%^&*_~'''  \n",
    "my_string = input(\"Enter a string: \")   \n",
    "no_punctuation = \"\"  \n",
    "for char in my_string:\n",
    "    if char not in remove_punctuation:  \n",
    "        no_punctuation = no_punctuation + char  \n",
    "print(no_punctuation)"
   ]
  }
 ],
 "metadata": {
  "kernelspec": {
   "display_name": "Python 3 (ipykernel)",
   "language": "python",
   "name": "python3"
  },
  "language_info": {
   "codemirror_mode": {
    "name": "ipython",
    "version": 3
   },
   "file_extension": ".py",
   "mimetype": "text/x-python",
   "name": "python",
   "nbconvert_exporter": "python",
   "pygments_lexer": "ipython3",
   "version": "3.9.12"
  }
 },
 "nbformat": 4,
 "nbformat_minor": 5
}
