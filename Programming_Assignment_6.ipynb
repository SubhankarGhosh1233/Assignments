{
 "cells": [
  {
   "cell_type": "markdown",
   "id": "974e509d",
   "metadata": {},
   "source": [
    "# Programming_Assignment_6"
   ]
  },
  {
   "cell_type": "markdown",
   "id": "5d695d1e",
   "metadata": {},
   "source": [
    "### 1. Write a Python Program to Display Fibonacci Sequence Using Recursion?"
   ]
  },
  {
   "cell_type": "code",
   "execution_count": 2,
   "id": "60b15e99",
   "metadata": {},
   "outputs": [
    {
     "name": "stdout",
     "output_type": "stream",
     "text": [
      "0\n",
      "1\n",
      "1\n",
      "2\n",
      "3\n",
      "5\n",
      "8\n",
      "13\n",
      "21\n",
      "34\n",
      "55\n",
      "89\n",
      "144\n",
      "233\n",
      "377\n",
      "610\n",
      "987\n",
      "1597\n",
      "2584\n",
      "4181\n",
      "6765\n",
      "10946\n"
     ]
    }
   ],
   "source": [
    "first_number = 0\n",
    "second_number = 1\n",
    "print(first_number)\n",
    "print(second_number)\n",
    "for x in range(1,21):\n",
    "    third_number = first_number + second_number\n",
    "    print(third_number)\n",
    "    first_number,second_number=second_number,third_number"
   ]
  },
  {
   "cell_type": "markdown",
   "id": "18da5f06",
   "metadata": {},
   "source": [
    "### 2. Write a Python Program to Find Factorial of Number Using Recursion?"
   ]
  },
  {
   "cell_type": "code",
   "execution_count": 3,
   "id": "5acdd992",
   "metadata": {},
   "outputs": [
    {
     "name": "stdout",
     "output_type": "stream",
     "text": [
      "3628800\n"
     ]
    }
   ],
   "source": [
    "number = 10\n",
    "factorial = 1\n",
    "for i in range(1, number+1):\n",
    "    factorial*=i\n",
    "print(factorial)"
   ]
  },
  {
   "cell_type": "markdown",
   "id": "c39ab817",
   "metadata": {},
   "source": [
    "### 3. Write a Python Program to calculate your Body Mass Index?"
   ]
  },
  {
   "cell_type": "code",
   "execution_count": 4,
   "id": "70e96435",
   "metadata": {},
   "outputs": [
    {
     "name": "stdout",
     "output_type": "stream",
     "text": [
      "Enter your height in cm: 180\n",
      "Enter your weight in kg: 80\n",
      "You Body Mass Index is 24.691358024691358\n"
     ]
    }
   ],
   "source": [
    "height = float(input(\"Enter your height in cm: \"))\n",
    "weight = float(input(\"Enter your weight in kg: \"))\n",
    "Body_Mass_Index = weight / (height/100)**2\n",
    "print(f\"You Body Mass Index is {Body_Mass_Index}\")"
   ]
  },
  {
   "cell_type": "markdown",
   "id": "a79a01af",
   "metadata": {},
   "source": [
    "### 4. Write a Python Program to calculate the natural logarithm of any number?"
   ]
  },
  {
   "cell_type": "code",
   "execution_count": 5,
   "id": "8184df7d",
   "metadata": {},
   "outputs": [
    {
     "name": "stdout",
     "output_type": "stream",
     "text": [
      "Enter the number: 5\n",
      "The value is: 1.6094379124341003\n"
     ]
    }
   ],
   "source": [
    "import math\n",
    "number1 = int(input(\"Enter the number: \"))\n",
    "logarithm = math.log(number1)\n",
    "\n",
    "print(\"The value is:\",logarithm)"
   ]
  },
  {
   "cell_type": "markdown",
   "id": "8694e092",
   "metadata": {},
   "source": [
    "### 5. Write a Python Program for cube sum of first n natural numbers?"
   ]
  },
  {
   "cell_type": "code",
   "execution_count": 6,
   "id": "08359394",
   "metadata": {
    "scrolled": true
   },
   "outputs": [
    {
     "name": "stdout",
     "output_type": "stream",
     "text": [
      "Enter value of number: 5\n",
      "Sum of cubes =  225\n"
     ]
    }
   ],
   "source": [
    "number2 = int(input(\"Enter value of number: \"))\n",
    "sumofvalue = 0\n",
    "for i in range(1, number2+1):\n",
    "    sumofvalue += (i*i*i)\n",
    "\n",
    "print(\"Sum of cubes = \", sumofvalue)"
   ]
  }
 ],
 "metadata": {
  "kernelspec": {
   "display_name": "Python 3 (ipykernel)",
   "language": "python",
   "name": "python3"
  },
  "language_info": {
   "codemirror_mode": {
    "name": "ipython",
    "version": 3
   },
   "file_extension": ".py",
   "mimetype": "text/x-python",
   "name": "python",
   "nbconvert_exporter": "python",
   "pygments_lexer": "ipython3",
   "version": "3.9.12"
  }
 },
 "nbformat": 4,
 "nbformat_minor": 5
}
