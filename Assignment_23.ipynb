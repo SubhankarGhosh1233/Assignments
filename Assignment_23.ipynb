{
 "cells": [
  {
   "cell_type": "markdown",
   "id": "8db0c706",
   "metadata": {},
   "source": [
    "# Assignment_23"
   ]
  },
  {
   "cell_type": "markdown",
   "id": "9a05010f",
   "metadata": {},
   "source": [
    "### 1. What is the result of the code, and why?\n",
    "&gt;&gt;&gt; def func(a, b=6, c=8):\n",
    "print(a, b, c)\n",
    "&gt;&gt;&gt; func(1, 2)\n"
   ]
  },
  {
   "cell_type": "code",
   "execution_count": 7,
   "id": "24051e05",
   "metadata": {},
   "outputs": [
    {
     "name": "stdout",
     "output_type": "stream",
     "text": [
      "1 2 8\n"
     ]
    }
   ],
   "source": [
    "def func(a, b=6, c=8):\n",
    "    print(a, b, c)\n",
    "func(1,2)"
   ]
  },
  {
   "cell_type": "markdown",
   "id": "66593da5",
   "metadata": {},
   "source": [
    "Ans:- \n",
    "Here in this function, print first print  a is 1(not mention in function ), b is 2( instead of printing 6), and c is 8 (already mention in function ). "
   ]
  },
  {
   "cell_type": "markdown",
   "id": "15b3f55e",
   "metadata": {},
   "source": [
    "### 2. What is the result of this code, and why?\n",
    "&gt;&gt;&gt; def func(a, b, c=5):\n",
    "print(a, b, c)\n",
    "&gt;&gt;&gt; func(1, c=3, b=2)\n"
   ]
  },
  {
   "cell_type": "code",
   "execution_count": 8,
   "id": "125d0efd",
   "metadata": {},
   "outputs": [
    {
     "name": "stdout",
     "output_type": "stream",
     "text": [
      "1 2 3\n"
     ]
    }
   ],
   "source": [
    "def func(a, b, c=5):\n",
    "    print(a, b, c)\n",
    "func(1, c=3, b=2)"
   ]
  },
  {
   "cell_type": "markdown",
   "id": "6f7009f6",
   "metadata": {},
   "source": [
    "Ans:- Here in this function, print, first print a is 1(not mention in function ), b is 2 (We are calling this), and c is 3 (instead of printing 5) that assigned."
   ]
  },
  {
   "cell_type": "markdown",
   "id": "715906a7",
   "metadata": {},
   "source": [
    "### 3. How about this code: what is its result, and why?\n",
    "&gt;&gt;&gt; def func(a, *pargs):\n",
    "print(a, pargs)\n",
    "&gt;&gt;&gt; func(1, 2, 3)\n"
   ]
  },
  {
   "cell_type": "code",
   "execution_count": 9,
   "id": "7234a9bc",
   "metadata": {},
   "outputs": [
    {
     "name": "stdout",
     "output_type": "stream",
     "text": [
      "1 (2, 3)\n"
     ]
    }
   ],
   "source": [
    "def func(a, *pargs):\n",
    "    print(a, pargs)\n",
    "func(1, 2, 3)"
   ]
  },
  {
   "cell_type": "markdown",
   "id": "91513232",
   "metadata": {},
   "source": [
    "Ans:- Here in this function, a is 1, *parags returns all argument as we give as input in the form of tuple. "
   ]
  },
  {
   "cell_type": "markdown",
   "id": "6152e42c",
   "metadata": {},
   "source": [
    "### 4. What does this code print, and why?\n",
    "&gt;&gt;&gt; def func(a, **kargs):\n",
    "print(a, kargs)\n",
    "&gt;&gt;&gt; func(a=1, c=3, b=2)\n"
   ]
  },
  {
   "cell_type": "code",
   "execution_count": 10,
   "id": "2a32a283",
   "metadata": {},
   "outputs": [
    {
     "name": "stdout",
     "output_type": "stream",
     "text": [
      "1 {'c': 3, 'b': 2}\n"
     ]
    }
   ],
   "source": [
    "def func(a, **kargs): \n",
    "    print(a, kargs)\n",
    "func(a=1, c=3, b=2)"
   ]
  },
  {
   "cell_type": "markdown",
   "id": "406821de",
   "metadata": {},
   "source": [
    "Ans:- Here in this function, a is 1 and there after **kargs returns c is 3, b is 2 in the form of dictionary."
   ]
  },
  {
   "cell_type": "markdown",
   "id": "4ba1ba03",
   "metadata": {},
   "source": [
    "### 5. What gets printed by this, and explain?\n",
    "&gt;&gt;&gt; def func(a, b, c=8, d=5): print(a, b, c, d)\n",
    "&gt;&gt;&gt; func(1, *(5, 6))\n"
   ]
  },
  {
   "cell_type": "code",
   "execution_count": 11,
   "id": "208c6b54",
   "metadata": {},
   "outputs": [
    {
     "name": "stdout",
     "output_type": "stream",
     "text": [
      "1 5 6 5\n"
     ]
    }
   ],
   "source": [
    "def func(a, b, c=8, d=5): \n",
    "    print(a, b, c, d)\n",
    "func(1, *(5, 6))"
   ]
  },
  {
   "cell_type": "markdown",
   "id": "ccd1fcb2",
   "metadata": {},
   "source": [
    "Ans:- Here in this function, print, first print a is 1(not mention in function ), b is 2 (We are calling this), and c is 3 (instead of printing 5), here we use kwarg method."
   ]
  },
  {
   "cell_type": "markdown",
   "id": "a78f5900",
   "metadata": {},
   "source": [
    "### 6. what is the result of this, and explain?\n",
    "&gt;&gt;&gt; def func(a, b, c): a = 2; b[0] = &#39;x&#39;; c[&#39;a&#39;] = &#39;y&#39;\n",
    "&gt;&gt;&gt; l=1; m=[1]; n={&#39;a&#39;:0}\n",
    "&gt;&gt;&gt; func(l, m, n)\n",
    "\n",
    "&gt;&gt;&gt; l, m, n"
   ]
  },
  {
   "cell_type": "code",
   "execution_count": 12,
   "id": "4e2348f5",
   "metadata": {},
   "outputs": [
    {
     "data": {
      "text/plain": [
       "(1, ['x'], {'a': 'y'})"
      ]
     },
     "execution_count": 12,
     "metadata": {},
     "output_type": "execute_result"
    }
   ],
   "source": [
    "\n",
    "def func(a, b, c):\n",
    "    a = 2;\n",
    "    b[0] = 'x';\n",
    "    c['a'] = 'y'\n",
    "l=1; \n",
    "m=[1];\n",
    "n={'a':0}\n",
    "func(l, m, n)\n",
    "l, m, n"
   ]
  },
  {
   "cell_type": "markdown",
   "id": "afd91f24",
   "metadata": {},
   "source": [
    "Ans:- Here in this function, l is 1 as we define, m returns 'x' as list, and n returns it's values as a dictionary. "
   ]
  },
  {
   "cell_type": "code",
   "execution_count": null,
   "id": "ab2bba73",
   "metadata": {},
   "outputs": [],
   "source": []
  }
 ],
 "metadata": {
  "kernelspec": {
   "display_name": "Python 3 (ipykernel)",
   "language": "python",
   "name": "python3"
  },
  "language_info": {
   "codemirror_mode": {
    "name": "ipython",
    "version": 3
   },
   "file_extension": ".py",
   "mimetype": "text/x-python",
   "name": "python",
   "nbconvert_exporter": "python",
   "pygments_lexer": "ipython3",
   "version": "3.9.12"
  }
 },
 "nbformat": 4,
 "nbformat_minor": 5
}
