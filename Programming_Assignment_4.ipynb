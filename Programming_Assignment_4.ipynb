{
 "cells": [
  {
   "cell_type": "markdown",
   "id": "b35d15ac",
   "metadata": {},
   "source": [
    "# Programming_Assignment_4"
   ]
  },
  {
   "cell_type": "markdown",
   "id": "0e4f0b58",
   "metadata": {},
   "source": [
    "### 1. Write a Python Program to Find the Factorial of a Number?"
   ]
  },
  {
   "cell_type": "code",
   "execution_count": 1,
   "id": "5a012d9a",
   "metadata": {},
   "outputs": [
    {
     "name": "stdout",
     "output_type": "stream",
     "text": [
      "Enter a number: 10\n",
      "Factorial of the given number is:  3628800\n"
     ]
    }
   ],
   "source": [
    "number = int (input (\"Enter a number: \"))\n",
    "factorial = 1\n",
    "if number >= 1:\n",
    "    for i in range (1, number+1):\n",
    "        factorial = factorial *i\n",
    "\n",
    "print (\"Factorial of the given number is: \", factorial)\n"
   ]
  },
  {
   "cell_type": "markdown",
   "id": "5b4df9a8",
   "metadata": {},
   "source": [
    "### 2. Write a Python Program to Display the multiplication Table?"
   ]
  },
  {
   "cell_type": "code",
   "execution_count": 2,
   "id": "2486a83e",
   "metadata": {},
   "outputs": [
    {
     "name": "stdout",
     "output_type": "stream",
     "text": [
      " Enter a number : 12\n",
      "Here the table is: \n",
      "12 x 1 = 12\n",
      "12 x 2 = 24\n",
      "12 x 3 = 36\n",
      "12 x 4 = 48\n",
      "12 x 5 = 60\n",
      "12 x 6 = 72\n",
      "12 x 7 = 84\n",
      "12 x 8 = 96\n",
      "12 x 9 = 108\n",
      "12 x 10 = 120\n"
     ]
    }
   ],
   "source": [
    "number = int(input(\" Enter a number : \"))    \n",
    "print(\"Here the table is: \")  \n",
    "for a in range(1,11):    \n",
    "    print(number,'x',a,'=',number*a) "
   ]
  },
  {
   "cell_type": "markdown",
   "id": "4c54f220",
   "metadata": {},
   "source": [
    "### 3. Write a Python Program to Print the Fibonacci sequence?"
   ]
  },
  {
   "cell_type": "code",
   "execution_count": 3,
   "id": "c3c32b59",
   "metadata": {},
   "outputs": [
    {
     "name": "stdout",
     "output_type": "stream",
     "text": [
      "Enter the Range Number: 10\n",
      "0\n",
      "1\n",
      "1\n",
      "2\n",
      "3\n",
      "5\n",
      "8\n",
      "13\n",
      "21\n",
      "34\n"
     ]
    }
   ],
   "source": [
    "number = int(input(\"Enter the Range Number: \"))\n",
    "First_val = 0\n",
    "Second_val = 1\n",
    "for n in range(0, number):\n",
    "    if(n <= 1):\n",
    "              next = n\n",
    "    else:  \n",
    "        next = First_val + Second_val\n",
    "        First_val = Second_val\n",
    "        Second_val = next\n",
    "    print(next)"
   ]
  },
  {
   "cell_type": "markdown",
   "id": "1213a0f9",
   "metadata": {},
   "source": [
    "### 4. Write a Python Program to Check Armstrong Number?"
   ]
  },
  {
   "cell_type": "code",
   "execution_count": 4,
   "id": "ca4eb3ff",
   "metadata": {},
   "outputs": [
    {
     "name": "stdout",
     "output_type": "stream",
     "text": [
      "Enter a number: 22\n",
      "22 is not an Armstrong number\n"
     ]
    }
   ],
   "source": [
    "number1 = int(input(\"Enter a number: \"))\n",
    "sum = 0\n",
    "temp = number1\n",
    "while temp > 0:\n",
    "    digit = temp % 10\n",
    "    sum += digit ** 3\n",
    "    temp //= 10\n",
    "if number1 == sum:\n",
    "    print(number1,\"is an Armstrong number\")\n",
    "else:\n",
    "    print(number1,\"is not an Armstrong number\")"
   ]
  },
  {
   "cell_type": "markdown",
   "id": "cec40a46",
   "metadata": {},
   "source": [
    "### 5. Write a Python Program to Find Armstrong Number in an Interval?"
   ]
  },
  {
   "cell_type": "code",
   "execution_count": 5,
   "id": "1fbf13d4",
   "metadata": {},
   "outputs": [
    {
     "name": "stdout",
     "output_type": "stream",
     "text": [
      "153\n",
      "370\n",
      "371\n",
      "407\n",
      "1634\n",
      "8208\n",
      "9474\n"
     ]
    }
   ],
   "source": [
    "lower = 100\n",
    "upper = 10000\n",
    "for number in range(lower, upper + 1):\n",
    "    order = len(str(number))\n",
    "    sum = 0\n",
    "    temp = number\n",
    "    while temp > 0:\n",
    "        digit = temp % 10\n",
    "        sum += digit ** order\n",
    "        temp //= 10\n",
    "\n",
    "    if number == sum:\n",
    "        print(number)"
   ]
  },
  {
   "cell_type": "markdown",
   "id": "d720a3f6",
   "metadata": {},
   "source": [
    "### 6. Write a Python Program to Find the Sum of Natural Numbers?"
   ]
  },
  {
   "cell_type": "code",
   "execution_count": 6,
   "id": "23685c7d",
   "metadata": {},
   "outputs": [
    {
     "name": "stdout",
     "output_type": "stream",
     "text": [
      "Enter a number: 5\n",
      "The sum is 15\n"
     ]
    }
   ],
   "source": [
    "number = int(input(\"Enter a number: \"))  \n",
    "  \n",
    "if number < 0:\n",
    "    print(\"Enter a positive number\")  \n",
    "else:    \n",
    "    sum = 0  \n",
    "    while(number > 0):  \n",
    "        sum += number  \n",
    "        number -= 1  \n",
    "    print(\"The sum is\",sum)  "
   ]
  }
 ],
 "metadata": {
  "kernelspec": {
   "display_name": "Python 3 (ipykernel)",
   "language": "python",
   "name": "python3"
  },
  "language_info": {
   "codemirror_mode": {
    "name": "ipython",
    "version": 3
   },
   "file_extension": ".py",
   "mimetype": "text/x-python",
   "name": "python",
   "nbconvert_exporter": "python",
   "pygments_lexer": "ipython3",
   "version": "3.9.12"
  }
 },
 "nbformat": 4,
 "nbformat_minor": 5
}
