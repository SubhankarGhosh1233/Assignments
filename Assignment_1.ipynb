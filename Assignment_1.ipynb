{
 "cells": [
  {
   "cell_type": "markdown",
   "id": "79e3f7cc",
   "metadata": {},
   "source": [
    "# Assignment_1"
   ]
  },
  {
   "cell_type": "markdown",
   "id": "11a1cdb2",
   "metadata": {},
   "source": [
    "### 1. What does one mean by the term \"machine learning\"?"
   ]
  },
  {
   "cell_type": "markdown",
   "id": "4148bef6",
   "metadata": {},
   "source": [
    "### Ans:\n",
    "Machine learning is a subset of artificial intelligence. it  solves complex data with algorithms. Like human  brain, we may trained machine to work better by the machine learning. "
   ]
  },
  {
   "cell_type": "markdown",
   "id": "f1f4b60a",
   "metadata": {},
   "source": [
    "### 2.Can you think of 4 distinct types of issues where it shines?"
   ]
  },
  {
   "cell_type": "markdown",
   "id": "0e7ee71a",
   "metadata": {},
   "source": [
    "### Ans:\n",
    "the four types are Supervised Learning, Unsupervised Learning, Semi-supervised Learning and\n",
    "Reinforcement Learning."
   ]
  },
  {
   "cell_type": "markdown",
   "id": "cf0ca8aa",
   "metadata": {},
   "source": [
    "### 3.What is a labeled training set, and how does it work?"
   ]
  },
  {
   "cell_type": "markdown",
   "id": "fa405a91",
   "metadata": {},
   "source": [
    "### Ans:\n",
    "The training set is used to train the algorithm, and then you use the trained model on the test set to predict the response variable values that are already known. The final step is to compare the predicted responses against the actual responses to see how close they are."
   ]
  },
  {
   "cell_type": "markdown",
   "id": "ddea1d07",
   "metadata": {},
   "source": [
    "### 4.What are the two most important tasks that are supervised?"
   ]
  },
  {
   "cell_type": "markdown",
   "id": "cb2fa2fb",
   "metadata": {},
   "source": [
    "### Ans:\n",
    "classification and regression are the two most important tasks that are supervised."
   ]
  },
  {
   "cell_type": "markdown",
   "id": "e04a5f9e",
   "metadata": {},
   "source": [
    "### 5.Can you think of four examples of unsupervised tasks?"
   ]
  },
  {
   "cell_type": "markdown",
   "id": "3c26fdb0",
   "metadata": {},
   "source": [
    "### Ans:\n",
    "Four examples of unsupervised tasks are clustering, visualization, dimensionality reduction , and association rule learning."
   ]
  },
  {
   "cell_type": "markdown",
   "id": "c9205e80",
   "metadata": {},
   "source": [
    "### 6.State the machine learning model that would be best to make a robot walk through various unfamiliar terrains?"
   ]
  },
  {
   "cell_type": "markdown",
   "id": "3c7d54fe",
   "metadata": {},
   "source": [
    "### Ans:\n",
    "The best machine learning algorithm to allow a robot to walk in unknown terrain is reinforced learning, where the robot can learn from response of the terrain to optimize itself."
   ]
  },
  {
   "cell_type": "markdown",
   "id": "ca3733bf",
   "metadata": {},
   "source": [
    "### 7.Which algorithm will you use to divide your customers into different groups?"
   ]
  },
  {
   "cell_type": "markdown",
   "id": "b4e48bf9",
   "metadata": {},
   "source": [
    "### Ans:\n",
    "The best algorithm to divide customers into multiple groups is either supervised learning or unsupervised learning."
   ]
  },
  {
   "cell_type": "markdown",
   "id": "ed4b7993",
   "metadata": {},
   "source": [
    "### 8.Will you consider the problem of spam detection to be a supervised or unsupervised learning problem?"
   ]
  },
  {
   "cell_type": "markdown",
   "id": "0d639825",
   "metadata": {},
   "source": [
    "### Ans:\n",
    "Spam detection is a supervised learning problem because the labels are known (spam or no spam)."
   ]
  },
  {
   "cell_type": "markdown",
   "id": "0df10b0d",
   "metadata": {},
   "source": [
    "### 9.What is the concept of an online learning system?"
   ]
  },
  {
   "cell_type": "markdown",
   "id": "b2bddbc9",
   "metadata": {},
   "source": [
    "### Ans:\n",
    "Online learning system is a learning system in which the machine learns as data is given in small streams continuously."
   ]
  },
  {
   "cell_type": "markdown",
   "id": "268c4fae",
   "metadata": {},
   "source": [
    "### 10.What is out-of-core learning, and how does it differ from core learning?"
   ]
  },
  {
   "cell_type": "markdown",
   "id": "a7af469b",
   "metadata": {},
   "source": [
    "### Ans:\n",
    "Out-of-core learning system is a system that can handle data that cannot fit into your computer memory. It uses online learning system to feed data in small bits."
   ]
  },
  {
   "cell_type": "markdown",
   "id": "581da66f",
   "metadata": {},
   "source": [
    "### 11.What kind of learning algorithm makes predictions using a similarity measure?"
   ]
  },
  {
   "cell_type": "markdown",
   "id": "3b454d2a",
   "metadata": {},
   "source": [
    "### Ans:\n",
    "Learning algorithm that relies on a similarity measure to make predictions is instance-based algorithm."
   ]
  },
  {
   "cell_type": "markdown",
   "id": "3f8948aa",
   "metadata": {},
   "source": [
    "### 12.What&#39;s the difference between a model parameter and a hyperparameter in a learning algorithm?"
   ]
  },
  {
   "cell_type": "markdown",
   "id": "83d2087f",
   "metadata": {},
   "source": [
    "### Ans:\n",
    "Model parameter determines how a model will predict given a new instance; model usually has more than one parameter (like slope of a linear model). Hyperparameter is a parameter for the learning algorithm, not of a model."
   ]
  },
  {
   "cell_type": "markdown",
   "id": "29b0ba14",
   "metadata": {},
   "source": [
    "### 13.What are the criteria that model-based learning algorithms look for? What is the most popular method they use to achieve success? What method do they use to make predictions?"
   ]
  },
  {
   "cell_type": "markdown",
   "id": "b4c83b8c",
   "metadata": {},
   "source": [
    "### Ans:\n",
    "Model based learning algorithm search for the optimal value of parameters in a model that will give the best results for the new instances. We often use a cost function or similar to determine what the parameter value has to be in order to minimize the function. The model makes prediction by using the value of the new instance and the parameters in its function."
   ]
  },
  {
   "cell_type": "markdown",
   "id": "aa416f95",
   "metadata": {},
   "source": [
    "### 14.Can you name four of the most important Machine Learning challenges?"
   ]
  },
  {
   "cell_type": "markdown",
   "id": "603bf00f",
   "metadata": {},
   "source": [
    "### Ans:\n",
    "Four main challenges in Machine Learning include overfitting the data (using a model too complicated), underfitting the data (using a simple model), lacking in data and nonrepresentative data."
   ]
  },
  {
   "cell_type": "markdown",
   "id": "36814d3a",
   "metadata": {},
   "source": [
    "### 15.What happens if the model performs well on the training data but fails to generalize the results to new situations? Can you think of three different options?"
   ]
  },
  {
   "cell_type": "markdown",
   "id": "e37c368a",
   "metadata": {},
   "source": [
    "### Ans:\n",
    "If the model performs poorly to new instances, then it has overfit on the training data. To solve this, we can do any of the following three: get more data, implement a simpler model, or eliminate outliers or noise from the existing data set."
   ]
  },
  {
   "cell_type": "markdown",
   "id": "91464ffd",
   "metadata": {},
   "source": [
    "### 16.What exactly is a test set, and why would you need one?"
   ]
  },
  {
   "cell_type": "markdown",
   "id": "e7ab84c4",
   "metadata": {},
   "source": [
    "### Ans:\n",
    "Test set is a set that you test your model (fit using training data) to see how it performs. Test set is necessary so that you can determine how good (or bad) your model performs."
   ]
  },
  {
   "cell_type": "markdown",
   "id": "889ca3d2",
   "metadata": {},
   "source": [
    "### 17.What is a validation set&#39;s purpose?"
   ]
  },
  {
   "cell_type": "markdown",
   "id": "55304727",
   "metadata": {},
   "source": [
    "### Ans:\n",
    "the purpose of a validation set to compare between different training models."
   ]
  },
  {
   "cell_type": "markdown",
   "id": "9e6dc1c1",
   "metadata": {},
   "source": [
    "### 18.What precisely is the train-dev kit, when will you need it, how do you put it to use?"
   ]
  },
  {
   "cell_type": "markdown",
   "id": "7649e3f1",
   "metadata": {},
   "source": [
    "### Ans:\n",
    "A  train-dev kit is sometimes also called the development set or the \"dev set\". sometime visualize data is not possiable so we split entire data into trainning set, development set and Test set and in this dev or development set we have to optimize  the hyperparameters(different parameters) value to find best."
   ]
  },
  {
   "cell_type": "markdown",
   "id": "3fb9e7b5",
   "metadata": {},
   "source": [
    "### 19.What could go wrong if you use the test set to tune hyperparameters?"
   ]
  },
  {
   "cell_type": "markdown",
   "id": "82e1ad6b",
   "metadata": {},
   "source": [
    "### Ans:\n",
    "If you tune hyperparameters using the test sets, then it may not perform well on the out-of-sample data because the model is tuned just for that specific set."
   ]
  }
 ],
 "metadata": {
  "kernelspec": {
   "display_name": "Python 3 (ipykernel)",
   "language": "python",
   "name": "python3"
  },
  "language_info": {
   "codemirror_mode": {
    "name": "ipython",
    "version": 3
   },
   "file_extension": ".py",
   "mimetype": "text/x-python",
   "name": "python",
   "nbconvert_exporter": "python",
   "pygments_lexer": "ipython3",
   "version": "3.9.12"
  }
 },
 "nbformat": 4,
 "nbformat_minor": 5
}
