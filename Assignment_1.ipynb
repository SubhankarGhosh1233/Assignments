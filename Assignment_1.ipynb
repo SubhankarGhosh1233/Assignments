{
 "cells": [
  {
   "cell_type": "markdown",
   "id": "55dcd183",
   "metadata": {},
   "source": [
    "# Assignment_1"
   ]
  },
  {
   "cell_type": "markdown",
   "id": "c2b31b19",
   "metadata": {},
   "source": [
    "### 1. In the below elements which of them are values or an expression? eg:- values can be integer or string and expressions will be mathematical operators.\n",
    "*\n",
    "&#39;hello&#39;\n",
    "-87.8\n",
    "-\n",
    "/\n",
    "+\n",
    "6"
   ]
  },
  {
   "cell_type": "markdown",
   "id": "8804a7af",
   "metadata": {},
   "source": [
    "Ans:-Values: 'hello', -88.5, 5\n",
    "Operators: +, -, *, /"
   ]
  },
  {
   "cell_type": "markdown",
   "id": "cc99c1fc",
   "metadata": {},
   "source": [
    "### 2. What is the difference between string and variable?"
   ]
  },
  {
   "cell_type": "markdown",
   "id": "f6450276",
   "metadata": {},
   "source": [
    "#### Ans:-\n",
    "(i)A Variable is a store of information, and a String is a type of information you would like to store in a Variable and variable can not start with number or special characters. A String is usually words, enclosed with Inverted Commas.\n",
    "\n",
    "Example:-\n",
    "\n",
    "a=\"Python123488*!\" or a ='Python123488*!', \n",
    "\n",
    "Here a is the Variable, and we declared it as a String.\n",
    "(ii)variable is any alphabet or gropu of alphabet which work as temporary storage a data in a location , a variable is used to represent any value.\n",
    "\n",
    "Example:-\n",
    "\n",
    "a=\"Python\";\n",
    "\n",
    "here a is variable and type of value it stores is in string format."
   ]
  },
  {
   "cell_type": "markdown",
   "id": "d0b46d75",
   "metadata": {},
   "source": [
    "### 3. Describe three different data types."
   ]
  },
  {
   "cell_type": "markdown",
   "id": "edf49a64",
   "metadata": {},
   "source": [
    "Ans:- Integers, floating-point numbers, and strings."
   ]
  },
  {
   "cell_type": "markdown",
   "id": "ea58225d",
   "metadata": {},
   "source": [
    "### 4. What is an expression made up of? What do all expressions do?\n"
   ]
  },
  {
   "cell_type": "markdown",
   "id": "8cc3f8d2",
   "metadata": {},
   "source": [
    "Ans:- An expression is a combination of values and operators. All expressions evaluate (that is, reduce) to a single value."
   ]
  },
  {
   "cell_type": "markdown",
   "id": "c14dda16",
   "metadata": {},
   "source": [
    "### 5. This assignment statements, like spam = 10. What is the difference between an expression and a statement?\n"
   ]
  },
  {
   "cell_type": "markdown",
   "id": "026f2be2",
   "metadata": {},
   "source": [
    "Ans:- An expression evaluates to a single value. A statement does not."
   ]
  },
  {
   "cell_type": "markdown",
   "id": "6b65c7e4",
   "metadata": {},
   "source": [
    "### 6. After running the following code, what does the variable bacon contain?\n",
    "bacon = 22\n",
    "bacon + 1\n",
    "\n"
   ]
  },
  {
   "cell_type": "markdown",
   "id": "0328cc82",
   "metadata": {},
   "source": [
    "Ans:- The bacon variable is set to 22. The bacon + 1 expression does not reassign the value in bacon but that would need an assignment statement: bacon = bacon + 1"
   ]
  },
  {
   "cell_type": "markdown",
   "id": "72602ebe",
   "metadata": {},
   "source": [
    "### 7. What should the values of the following two terms be?\n",
    "&#39;spam&#39; + &#39;spamspam&#39;\n",
    "&#39;spam&#39; * 3\n",
    "\n"
   ]
  },
  {
   "cell_type": "markdown",
   "id": "e6dc3f5c",
   "metadata": {},
   "source": [
    "Ans:- Both expressions evaluate to the string 'spamspamspam'"
   ]
  },
  {
   "cell_type": "code",
   "execution_count": 8,
   "id": "69391041",
   "metadata": {},
   "outputs": [
    {
     "data": {
      "text/plain": [
       "'spamspamspam'"
      ]
     },
     "execution_count": 8,
     "metadata": {},
     "output_type": "execute_result"
    }
   ],
   "source": [
    "'spam' + 'spamspam'"
   ]
  },
  {
   "cell_type": "code",
   "execution_count": 9,
   "id": "c5edec58",
   "metadata": {},
   "outputs": [
    {
     "data": {
      "text/plain": [
       "'spamspamspam'"
      ]
     },
     "execution_count": 9,
     "metadata": {},
     "output_type": "execute_result"
    }
   ],
   "source": [
    "'spam' * 3"
   ]
  },
  {
   "cell_type": "markdown",
   "id": "1f5555f0",
   "metadata": {},
   "source": [
    "### 8. Why is eggs a valid variable name while 100 is invalid?\n"
   ]
  },
  {
   "cell_type": "markdown",
   "id": "fdefaed5",
   "metadata": {},
   "source": [
    "Ans:- Variable names cannot begin with a number. So eggs a valid variable name while 100 is invalid."
   ]
  },
  {
   "cell_type": "markdown",
   "id": "33c21c44",
   "metadata": {},
   "source": [
    "### 9. What three functions can be used to get the integer, floating-point number, or string version of a value?\n"
   ]
  },
  {
   "cell_type": "markdown",
   "id": "513a1ea9",
   "metadata": {},
   "source": [
    "The int(), float(), and str() functions will evaluate to the integer, floating-point number, and string versions of the value."
   ]
  },
  {
   "cell_type": "markdown",
   "id": "c66d4b0a",
   "metadata": {},
   "source": [
    "### 10. Why does this expression cause an error? How can you fix it?\n",
    "&#39;I have eaten &#39; + 99 + &#39; burritos.&#39;"
   ]
  },
  {
   "cell_type": "code",
   "execution_count": 5,
   "id": "f485d230",
   "metadata": {},
   "outputs": [
    {
     "data": {
      "text/plain": [
       "'I have eaten 99 burritos.'"
      ]
     },
     "execution_count": 5,
     "metadata": {},
     "output_type": "execute_result"
    }
   ],
   "source": [
    "i='I have eaten ' + str(99) + ' burritos.'\n",
    "i"
   ]
  },
  {
   "cell_type": "code",
   "execution_count": null,
   "id": "0a1bf322",
   "metadata": {},
   "outputs": [],
   "source": []
  }
 ],
 "metadata": {
  "kernelspec": {
   "display_name": "Python 3 (ipykernel)",
   "language": "python",
   "name": "python3"
  },
  "language_info": {
   "codemirror_mode": {
    "name": "ipython",
    "version": 3
   },
   "file_extension": ".py",
   "mimetype": "text/x-python",
   "name": "python",
   "nbconvert_exporter": "python",
   "pygments_lexer": "ipython3",
   "version": "3.9.12"
  }
 },
 "nbformat": 4,
 "nbformat_minor": 5
}
