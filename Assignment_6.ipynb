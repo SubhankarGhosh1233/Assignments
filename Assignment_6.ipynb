{
 "cells": [
  {
   "cell_type": "markdown",
   "id": "a607caa1",
   "metadata": {},
   "source": [
    "# Assignment_6"
   ]
  },
  {
   "cell_type": "markdown",
   "id": "ee6d9a01",
   "metadata": {},
   "source": [
    "### 1. What are escape characters, and how do you use them?\n"
   ]
  },
  {
   "cell_type": "markdown",
   "id": "f724ac07",
   "metadata": {},
   "source": [
    "Ans: Escape characters represent characters in string values, otherwise be difficult or impossible to type into code."
   ]
  },
  {
   "cell_type": "markdown",
   "id": "78b4db9f",
   "metadata": {},
   "source": [
    "### 2. What do the escape characters n and t stand for?\n"
   ]
  },
  {
   "cell_type": "markdown",
   "id": "9480f683",
   "metadata": {},
   "source": [
    "Ans: \\n stands for a newline; \\t stands for a tab."
   ]
  },
  {
   "cell_type": "markdown",
   "id": "1458c97d",
   "metadata": {},
   "source": [
    "### 3. What is the way to include backslash characters in a string?\n"
   ]
  },
  {
   "cell_type": "markdown",
   "id": "75eca278",
   "metadata": {},
   "source": [
    "Ans: The \\\\ escape character will represent a backslash character."
   ]
  },
  {
   "cell_type": "markdown",
   "id": "f26dc7e0",
   "metadata": {},
   "source": [
    "### 4. The string &quot;Howl&#39;s Moving Castle&quot; is a correct value. Why isn&#39;t the single quote character in the word Howl&#39;s not escaped a problem?\n"
   ]
  },
  {
   "cell_type": "markdown",
   "id": "50e88b18",
   "metadata": {},
   "source": [
    "Ans: The single quote in Howl's is fine because we’ve used double quotes to mark the beginning and end of the string."
   ]
  },
  {
   "cell_type": "markdown",
   "id": "4759eda1",
   "metadata": {},
   "source": [
    "### 5. How do you write a string of newlines if you don&#39;t want to use the n character?\n"
   ]
  },
  {
   "cell_type": "markdown",
   "id": "275783be",
   "metadata": {},
   "source": [
    "Ans: Multiline strings allow you to use newlines in strings without the \\n escape character."
   ]
  },
  {
   "cell_type": "markdown",
   "id": "fae2e8a0",
   "metadata": {},
   "source": [
    "### 6. What are the values of the given expressions?\n",
    "&#39;Hello, world!&#39;[1]\n",
    "&#39;Hello, world!&#39;[0:5]\n",
    "&#39;Hello, world!&#39;[:5]\n",
    "&#39;Hello, world!&#39;[3:]\n",
    "\n"
   ]
  },
  {
   "cell_type": "markdown",
   "id": "852b6ca5",
   "metadata": {},
   "source": [
    "Ans: The expressions evaluate to the following:\n",
    "\n",
    "'e'\n",
    "\n",
    "'Hello'\n",
    "\n",
    "'Hello' \n",
    "\n",
    "'lo world"
   ]
  },
  {
   "cell_type": "markdown",
   "id": "ede7b8cf",
   "metadata": {},
   "source": [
    "### 7. What are the values of the following expressions?\n",
    "&#39;Hello&#39;.upper()\n",
    "&#39;Hello&#39;.upper().isupper()\n",
    "&#39;Hello&#39;.upper().lower()\n"
   ]
  },
  {
   "cell_type": "markdown",
   "id": "a93722b9",
   "metadata": {},
   "source": [
    "Ans: The expressions evaluate to the following: \n",
    "\n",
    "'HELLO' \n",
    "\n",
    "True \n",
    "\n",
    "'hello'"
   ]
  },
  {
   "cell_type": "markdown",
   "id": "126ee58d",
   "metadata": {},
   "source": [
    "### 8. What are the values of the following expressions?  &#39;Remember, remember, the fifth of July.&#39;.split()&#39;-&#39;.join(&#39;There can only one.&#39;.split())\n"
   ]
  },
  {
   "cell_type": "markdown",
   "id": "810b3cf0",
   "metadata": {},
   "source": [
    "Ans:a)['Remember,','remember,','the','fifth','of','july']\n",
    "b)'there-can-only-one'\n",
    "       "
   ]
  },
  {
   "cell_type": "markdown",
   "id": "76ba7c86",
   "metadata": {},
   "source": [
    "### 9. What are the methods for right-justifying, left-justifying, and centering a string?\n"
   ]
  },
  {
   "cell_type": "markdown",
   "id": "cbd8de57",
   "metadata": {},
   "source": [
    "Ans: The rjust(), ljust(), and center() string methods."
   ]
  },
  {
   "cell_type": "markdown",
   "id": "ae45bdcc",
   "metadata": {},
   "source": [
    "### 10. What is the best way to remove whitespace characters from the start or end?"
   ]
  },
  {
   "cell_type": "markdown",
   "id": "1a513add",
   "metadata": {},
   "source": [
    "Ans: The lstrip() and rstrip() methods remove whitespace from the left and right ends of a string."
   ]
  }
 ],
 "metadata": {
  "kernelspec": {
   "display_name": "Python 3 (ipykernel)",
   "language": "python",
   "name": "python3"
  },
  "language_info": {
   "codemirror_mode": {
    "name": "ipython",
    "version": 3
   },
   "file_extension": ".py",
   "mimetype": "text/x-python",
   "name": "python",
   "nbconvert_exporter": "python",
   "pygments_lexer": "ipython3",
   "version": "3.9.12"
  }
 },
 "nbformat": 4,
 "nbformat_minor": 5
}
