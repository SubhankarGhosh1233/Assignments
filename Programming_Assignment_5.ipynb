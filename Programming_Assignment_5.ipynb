{
 "cells": [
  {
   "cell_type": "markdown",
   "id": "e6a038cf",
   "metadata": {},
   "source": [
    "# Programming_Assignment_5"
   ]
  },
  {
   "cell_type": "markdown",
   "id": "af7ff8b8",
   "metadata": {},
   "source": [
    "### 1. Write a Python Program to Find LCM?\n"
   ]
  },
  {
   "cell_type": "code",
   "execution_count": 12,
   "id": "a07392e4",
   "metadata": {},
   "outputs": [
    {
     "name": "stdout",
     "output_type": "stream",
     "text": [
      "LCM of 4 and 8 is 8\n"
     ]
    }
   ],
   "source": [
    "number1 = 4\n",
    "number2 = 8\n",
    "for i in range(max(number1, number2), 1 + (number1 * num2)):\n",
    "    if i % number1 == i % number2 == 0:\n",
    "        lcm = i\n",
    "        break\n",
    "print(\"LCM of\", number1, \"and\", number2, \"is\", lcm)\n"
   ]
  },
  {
   "cell_type": "markdown",
   "id": "fc1086ca",
   "metadata": {},
   "source": [
    "### 2. Write a Python Program to Find HCF?\n"
   ]
  },
  {
   "cell_type": "code",
   "execution_count": 5,
   "id": "435ad8b1",
   "metadata": {},
   "outputs": [
    {
     "name": "stdout",
     "output_type": "stream",
     "text": [
      "HCF of 30 and 42 is: 6\n"
     ]
    }
   ],
   "source": [
    "number1 = 30\n",
    "number2 = 42\n",
    "if number1 > number2:\n",
    "    number1, number2 = number2, number1\n",
    "for i in range(1,number1+1):\n",
    "    if number1%i == 0 and number2%i == 0:\n",
    "        hcf = i\n",
    "print(\"HCF of\", number1, \"and\", number2, \"is:\", hcf)"
   ]
  },
  {
   "cell_type": "markdown",
   "id": "d6c5cfb6",
   "metadata": {},
   "source": [
    "### 3. Write a Python Program to Convert Decimal to Binary, Octal and Hexadecimal?\n"
   ]
  },
  {
   "cell_type": "code",
   "execution_count": 7,
   "id": "eebb11c3",
   "metadata": {},
   "outputs": [
    {
     "name": "stdout",
     "output_type": "stream",
     "text": [
      "The decimal value of 10 is:\n",
      "0b1010 in binary.\n",
      "0o12 in octal.\n",
      "0xa in hexadecimal.\n"
     ]
    }
   ],
   "source": [
    "Decimal = 10\n",
    "\n",
    "print(\"The decimal value of\", Decimal, \"is:\")\n",
    "print(bin(Decimal), \"in binary.\")\n",
    "print(oct(Decimal), \"in octal.\")\n",
    "print(hex(Decimal), \"in hexadecimal.\")"
   ]
  },
  {
   "cell_type": "markdown",
   "id": "afc8b766",
   "metadata": {},
   "source": [
    "### 4. Write a Python Program To Find ASCII value of a character?"
   ]
  },
  {
   "cell_type": "code",
   "execution_count": 22,
   "id": "38b14ffe",
   "metadata": {},
   "outputs": [
    {
     "name": "stdout",
     "output_type": "stream",
     "text": [
      "Enter character: $\n",
      "ASCII code of $ is: 36\n"
     ]
    }
   ],
   "source": [
    "characters = input(\"Enter character: \")\n",
    "asc = ord(characters)\n",
    "print(\"ASCII code of\",characters,\"is:\", asc)"
   ]
  },
  {
   "cell_type": "markdown",
   "id": "f8ffbb45",
   "metadata": {},
   "source": [
    "### 5. Write a Python Program to Make a Simple Calculator with 4 basic mathematical operations?"
   ]
  },
  {
   "cell_type": "code",
   "execution_count": 26,
   "id": "af232072",
   "metadata": {},
   "outputs": [
    {
     "name": "stdout",
     "output_type": "stream",
     "text": [
      "Enter your first number: 500\n",
      "Enter your second number: 5\n",
      "500 + 5 = \n",
      "505\n",
      "500 - 5 = \n",
      "495\n",
      "500 * 5 = \n",
      "2500\n",
      "500 / 5 = \n",
      "100.0\n"
     ]
    }
   ],
   "source": [
    "number1 = int(input('Enter your first number: '))\n",
    "number2 = int(input('Enter your second number: '))\n",
    "\n",
    "print('{} + {} = '.format(number1, number2))\n",
    "print(number1 + number2)\n",
    "\n",
    "print('{} - {} = '.format(number1, number2))\n",
    "print(number1 - number2)\n",
    "\n",
    "print('{} * {} = '.format(number1, number2))\n",
    "print(number1 * number2)\n",
    "\n",
    "print('{} / {} = '.format(number1, number2))\n",
    "print(number1/ number2)"
   ]
  }
 ],
 "metadata": {
  "kernelspec": {
   "display_name": "Python 3 (ipykernel)",
   "language": "python",
   "name": "python3"
  },
  "language_info": {
   "codemirror_mode": {
    "name": "ipython",
    "version": 3
   },
   "file_extension": ".py",
   "mimetype": "text/x-python",
   "name": "python",
   "nbconvert_exporter": "python",
   "pygments_lexer": "ipython3",
   "version": "3.9.12"
  }
 },
 "nbformat": 4,
 "nbformat_minor": 5
}
