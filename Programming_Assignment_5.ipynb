{
 "cells": [
  {
   "cell_type": "markdown",
   "id": "7de3f43c",
   "metadata": {},
   "source": [
    "# Programming_Assignment_5"
   ]
  },
  {
   "cell_type": "markdown",
   "id": "22a8081d",
   "metadata": {},
   "source": [
    "### 1. Write a Python Program to Find LCM?\n"
   ]
  },
  {
   "cell_type": "code",
   "execution_count": 2,
   "id": "55759983",
   "metadata": {},
   "outputs": [
    {
     "name": "stdout",
     "output_type": "stream",
     "text": [
      "Enter a number_1: 4\n",
      "Enter a number_2: 8\n",
      "The L.C.M. is 8\n"
     ]
    }
   ],
   "source": [
    "number1 = int(input(\"Enter a number_1: \"))\n",
    "number2 = int(input(\"Enter a number_2: \"))\n",
    "\n",
    "def calculate_lcm(x, y):\n",
    "    if x > y:\n",
    "        greater = x\n",
    "    else:\n",
    "        greater = y\n",
    "\n",
    "    while(True):\n",
    "        if((greater % x == 0) and (greater % y == 0)):\n",
    "            lcm = greater\n",
    "            break\n",
    "        greater += 1\n",
    "\n",
    "    return lcm\n",
    "\n",
    "print(\"The L.C.M. is\", calculate_lcm(number1, number2))"
   ]
  },
  {
   "cell_type": "markdown",
   "id": "0431fde7",
   "metadata": {},
   "source": [
    "### 2. Write a Python Program to Find HCF?\n"
   ]
  },
  {
   "cell_type": "code",
   "execution_count": 3,
   "id": "61671cbc",
   "metadata": {},
   "outputs": [
    {
     "name": "stdout",
     "output_type": "stream",
     "text": [
      "Enter first number: 30\n",
      "Enter second number: 42\n",
      "The H.C.F. of 30 and 42 is 6\n"
     ]
    }
   ],
   "source": [
    "number1 = int(input(\"Enter first number: \"))  \n",
    "number2 = int(input(\"Enter second number: \"))  \n",
    "def calculate_hcf(x, y): \n",
    "    if x > y:  \n",
    "        smaller = y  \n",
    "    else:  \n",
    "        smaller = x  \n",
    "    for i in range(1,smaller + 1):  \n",
    "        if((x % i == 0) and (y % i == 0)):  \n",
    "            hcf = i  \n",
    "    return hcf  \n",
    "print(\"The H.C.F. of\", number1,\"and\", number2,\"is\", calculate_hcf(number1, number2)) "
   ]
  },
  {
   "cell_type": "markdown",
   "id": "711fa476",
   "metadata": {},
   "source": [
    "### 3. Write a Python Program to Convert Decimal to Binary, Octal and Hexadecimal?\n"
   ]
  },
  {
   "cell_type": "code",
   "execution_count": 19,
   "id": "175044f5",
   "metadata": {},
   "outputs": [
    {
     "name": "stdout",
     "output_type": "stream",
     "text": [
      "Enter the number: 10\n",
      "10  in Binary :  0b1010\n",
      "10 in Octal :  0o12\n",
      "10  in Hexadecimal :  0xa\n"
     ]
    }
   ],
   "source": [
    "number = int(input(\"Enter the number: \"))\n",
    "\n",
    "def decimal_to_binary(number):\n",
    "    decimal = int(number)\n",
    "    print(decimal, \" in Binary : \", bin(decimal))\n",
    "    \n",
    "def decimal_to_octal(number):\n",
    "    decimal = int(number)\n",
    "    print(decimal, \"in Octal : \", oct(decimal))\n",
    "\n",
    "def decimal_to_hexadecimal(number):\n",
    "    decimal = int(number)\n",
    "    print(decimal, \" in Hexadecimal : \", hex(decimal))\n",
    "\n",
    "decimal_to_binary(number)\n",
    "decimal_to_octal(number)\n",
    "decimal_to_hexadecimal(number)"
   ]
  },
  {
   "cell_type": "markdown",
   "id": "0b79b57b",
   "metadata": {},
   "source": [
    "### 4. Write a Python Program To Find ASCII value of a character?"
   ]
  },
  {
   "cell_type": "code",
   "execution_count": 22,
   "id": "fb5e0100",
   "metadata": {},
   "outputs": [
    {
     "name": "stdout",
     "output_type": "stream",
     "text": [
      "Enter character: $\n",
      "ASCII code of $ is: 36\n"
     ]
    }
   ],
   "source": [
    "characters = input(\"Enter character: \")\n",
    "asc = ord(characters)\n",
    "print(\"ASCII code of\",characters,\"is:\", asc)"
   ]
  },
  {
   "cell_type": "markdown",
   "id": "fce95157",
   "metadata": {},
   "source": [
    "### 5. Write a Python Program to Make a Simple Calculator with 4 basic mathematical operations?"
   ]
  },
  {
   "cell_type": "code",
   "execution_count": 26,
   "id": "c67970dd",
   "metadata": {},
   "outputs": [
    {
     "name": "stdout",
     "output_type": "stream",
     "text": [
      "Enter your first number: 500\n",
      "Enter your second number: 5\n",
      "500 + 5 = \n",
      "505\n",
      "500 - 5 = \n",
      "495\n",
      "500 * 5 = \n",
      "2500\n",
      "500 / 5 = \n",
      "100.0\n"
     ]
    }
   ],
   "source": [
    "number1 = int(input('Enter your first number: '))\n",
    "number2 = int(input('Enter your second number: '))\n",
    "\n",
    "print('{} + {} = '.format(number1, number2))\n",
    "print(number1 + number2)\n",
    "\n",
    "print('{} - {} = '.format(number1, number2))\n",
    "print(number1 - number2)\n",
    "\n",
    "print('{} * {} = '.format(number1, number2))\n",
    "print(number1 * number2)\n",
    "\n",
    "print('{} / {} = '.format(number1, number2))\n",
    "print(number1/ number2)"
   ]
  }
 ],
 "metadata": {
  "kernelspec": {
   "display_name": "Python 3 (ipykernel)",
   "language": "python",
   "name": "python3"
  },
  "language_info": {
   "codemirror_mode": {
    "name": "ipython",
    "version": 3
   },
   "file_extension": ".py",
   "mimetype": "text/x-python",
   "name": "python",
   "nbconvert_exporter": "python",
   "pygments_lexer": "ipython3",
   "version": "3.9.12"
  }
 },
 "nbformat": 4,
 "nbformat_minor": 5
}
