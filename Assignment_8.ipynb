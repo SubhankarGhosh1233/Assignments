{
 "cells": [
  {
   "cell_type": "markdown",
   "id": "ba9a2062",
   "metadata": {},
   "source": [
    "# Assignment_8\n"
   ]
  },
  {
   "cell_type": "markdown",
   "id": "710621b0",
   "metadata": {},
   "source": [
    "### 1. Is the Python Standard Library included with PyInputPlus?\n"
   ]
  },
  {
   "cell_type": "markdown",
   "id": "02042031",
   "metadata": {},
   "source": [
    "Ans:- PyInputPlus is not a part of the Python Standard Library, we must install it separately using Pip."
   ]
  },
  {
   "cell_type": "markdown",
   "id": "12d8e19e",
   "metadata": {},
   "source": [
    "### 2. Why is PyInputPlus commonly imported with import pyinputplus as pypi?\n"
   ]
  },
  {
   "cell_type": "markdown",
   "id": "01a9008e",
   "metadata": {},
   "source": [
    "Ans:- You can import the module with import pyinputplus as pyip so that you can enter a shorter name when calling the module’s functions."
   ]
  },
  {
   "cell_type": "markdown",
   "id": "86b7ceb2",
   "metadata": {},
   "source": [
    "### 3. How do you distinguish between inputInt() and inputFloat()?\n"
   ]
  },
  {
   "cell_type": "markdown",
   "id": "d9df24e3",
   "metadata": {},
   "source": [
    "Ans:-  The difference is in the data-type when you use the first one the program expects an integer value as input but in the latter it expects a float value i.e number containing a decimal."
   ]
  },
  {
   "cell_type": "markdown",
   "id": "ad6f853c",
   "metadata": {},
   "source": [
    "### 4. Using PyInputPlus, how do you ensure that the user enters a whole number between 0 and 99?\n"
   ]
  },
  {
   "cell_type": "markdown",
   "id": "1d405a49",
   "metadata": {},
   "source": [
    "Ans:- By using pyip.inputint(min=0, max=99)"
   ]
  },
  {
   "cell_type": "markdown",
   "id": "aa1646f3",
   "metadata": {},
   "source": [
    "### 5. What is transferred to the keyword arguments allowRegexes and blockRegexes?\n"
   ]
  },
  {
   "cell_type": "markdown",
   "id": "092c286d",
   "metadata": {},
   "source": [
    "Ans:- A list of regex strings that are either explicitly allowed or denied."
   ]
  },
  {
   "cell_type": "markdown",
   "id": "9750fa64",
   "metadata": {},
   "source": [
    "### 6. If a blank input is entered three times, what does inputStr(limit=3) do?\n"
   ]
  },
  {
   "cell_type": "markdown",
   "id": "e17eb101",
   "metadata": {},
   "source": [
    "Ans:- The function will raise RetryLimitException."
   ]
  },
  {
   "cell_type": "markdown",
   "id": "d89c81a9",
   "metadata": {},
   "source": [
    "### 7. If blank input is entered three times, what does inputStr(limit=3, default=&#39;hello&#39;) do?"
   ]
  },
  {
   "cell_type": "markdown",
   "id": "c11bc35f",
   "metadata": {},
   "source": [
    "Ans:- . The function returns the value 'hello'"
   ]
  }
 ],
 "metadata": {
  "kernelspec": {
   "display_name": "Python 3 (ipykernel)",
   "language": "python",
   "name": "python3"
  },
  "language_info": {
   "codemirror_mode": {
    "name": "ipython",
    "version": 3
   },
   "file_extension": ".py",
   "mimetype": "text/x-python",
   "name": "python",
   "nbconvert_exporter": "python",
   "pygments_lexer": "ipython3",
   "version": "3.9.12"
  }
 },
 "nbformat": 4,
 "nbformat_minor": 5
}
