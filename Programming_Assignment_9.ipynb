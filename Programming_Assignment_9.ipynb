{
 "cells": [
  {
   "cell_type": "markdown",
   "id": "4b5344b7",
   "metadata": {},
   "source": [
    "# Programming_Assignment_9"
   ]
  },
  {
   "cell_type": "markdown",
   "id": "4938eb13",
   "metadata": {},
   "source": [
    "### 1. Write a Python program to check if the given number is a Disarium Number?"
   ]
  },
  {
   "cell_type": "code",
   "execution_count": 12,
   "id": "3199f64a",
   "metadata": {},
   "outputs": [
    {
     "name": "stdout",
     "output_type": "stream",
     "text": [
      "Enter the Number to Check Disarium Number = 1\n",
      "The Sum of the Digits = 1\n",
      "\n",
      "1 is a Disarium Number.\n"
     ]
    }
   ],
   "source": [
    "number = int(input(\"Enter the Number to Check Disarium Number = \"))\n",
    "length = len(str(Number))\n",
    "\n",
    "Temp = number\n",
    "Sum = 0\n",
    "rem = 0\n",
    "\n",
    "while Temp > 0:\n",
    "    rem = Temp % 10\n",
    "    Sum = Sum + int(rem**length)\n",
    "    Temp = Temp // 10\n",
    "    length = length - 1\n",
    "\n",
    "print(\"The Sum of the Digits = %d\" %Sum)\n",
    "\n",
    "if Sum == number:\n",
    "    print(\"\\n%d is a Disarium Number.\" %number)\n",
    "else:\n",
    "    print(\"%d is Not a Disarium Number.\" %number)\n"
   ]
  },
  {
   "cell_type": "markdown",
   "id": "ced5fa61",
   "metadata": {},
   "source": [
    "### 2. Write a Python program to print all disarium numbers between 1 to 100?"
   ]
  },
  {
   "cell_type": "code",
   "execution_count": 10,
   "id": "7109c7ec",
   "metadata": {},
   "outputs": [
    {
     "name": "stdout",
     "output_type": "stream",
     "text": [
      "All disarium numbers between 1 to 100 are:\n",
      "1 2 3 4 5 6 7 8 9 89 "
     ]
    }
   ],
   "source": [
    "import math\n",
    "lower_limit =1\n",
    "upper_limit =100\n",
    "print (\"All disarium numbers between 1 to 100 are:\")\n",
    "for i in range (lower_limit,upper_limit+1):\n",
    "    temporary = i\n",
    "    d =0\n",
    "    while temporary> 0:\n",
    "        d+= 1\n",
    "        temporary //=10\n",
    "    temporary = i\n",
    "    summ = 0\n",
    "    while temporary> 0:\n",
    "        summ = int(summ+ math.pow(temporary%10 ,d))\n",
    "        temporary //= 10\n",
    "        d-= 1\n",
    "    if summ ==i:\n",
    "        print(i ,end= \" \")\n",
    "    \n"
   ]
  },
  {
   "cell_type": "markdown",
   "id": "2f6e5508",
   "metadata": {},
   "source": [
    "### 3. Write a Python program to check if the given number is Happy Number?"
   ]
  },
  {
   "cell_type": "code",
   "execution_count": 16,
   "id": "606aad91",
   "metadata": {},
   "outputs": [
    {
     "name": "stdout",
     "output_type": "stream",
     "text": [
      "Enter the Number= 68\n",
      "68 is a happy number\n"
     ]
    }
   ],
   "source": [
    "number = int(input(\"Enter the Number= \"))\n",
    "p =number\n",
    "while p >= 10:\n",
    "    sum = 0\n",
    "    while p > 0:\n",
    "        reminder = p%10\n",
    "        sum = sum +(reminder**2)\n",
    "        p =p//10\n",
    "    p =sum\n",
    "if p==1:\n",
    "    print(number ,\"is a happy number\")\n",
    "else:\n",
    "    print(number ,\"is not a happy number\")"
   ]
  },
  {
   "cell_type": "markdown",
   "id": "276868dd",
   "metadata": {},
   "source": [
    "### 4. Write a Python program to print all happy numbers between 1 and 100?"
   ]
  },
  {
   "cell_type": "code",
   "execution_count": 19,
   "id": "9b4581f4",
   "metadata": {},
   "outputs": [
    {
     "name": "stdout",
     "output_type": "stream",
     "text": [
      "All happy numbers between 1 to 100 are:\n",
      "1 7 10 13 19 23 28 31 32 44 49 68 70 79 82 86 91 94 97 100 "
     ]
    }
   ],
   "source": [
    "print (\"All happy numbers between 1 to 100 are:\")\n",
    "for i in range (1,100+1):\n",
    "    \n",
    "    s = 0\n",
    "    number = i\n",
    "    while s!=1 and s!=4:\n",
    "        s= 0\n",
    "        \n",
    "        while number> 0:\n",
    "            \n",
    "            reminder = number%10\n",
    "            s =s+(reminder*reminder)\n",
    "            number= number//10\n",
    "        number = s\n",
    "    \n",
    "    if s ==1:\n",
    "        print(i ,end= \" \")"
   ]
  },
  {
   "cell_type": "markdown",
   "id": "89a3871b",
   "metadata": {},
   "source": [
    "### 5. Write a Python program to determine whether the given number is a Harshad Number?"
   ]
  },
  {
   "cell_type": "code",
   "execution_count": 25,
   "id": "f310bf08",
   "metadata": {},
   "outputs": [
    {
     "name": "stdout",
     "output_type": "stream",
     "text": [
      "Enter the Number= 18\n",
      "18 is a Harshad number\n"
     ]
    }
   ],
   "source": [
    "number = int(input(\"Enter the Number= \"))\n",
    "d = 0\n",
    "temporary =number\n",
    "while temporary> 0:\n",
    "    d = d+(temporary%10)\n",
    "    temporary =temporary//10\n",
    "if number%d==0:\n",
    "        print(number ,\"is a Harshad number\")\n",
    "else:\n",
    "    print(number ,\"is not a Harshad number\")"
   ]
  },
  {
   "cell_type": "markdown",
   "id": "4cd89004",
   "metadata": {},
   "source": [
    "### 6. Write a Python program to print all pronic numbers between 1 and 100?"
   ]
  },
  {
   "cell_type": "code",
   "execution_count": 36,
   "id": "8e2223ea",
   "metadata": {
    "scrolled": true
   },
   "outputs": [
    {
     "name": "stdout",
     "output_type": "stream",
     "text": [
      "Pronic numbers between 1 and 100: \n",
      "2\n",
      "6\n",
      "12\n",
      "20\n",
      "30\n",
      "42\n",
      "56\n",
      "72\n",
      "90\n"
     ]
    }
   ],
   "source": [
    "def ispronicnumber(num):    \n",
    "    flag = False   \n",
    "        \n",
    "    for j in range(1, num+1):    \n",
    "        \n",
    "        if((j*(j+1)) == num):    \n",
    "            flag = True    \n",
    "            break   \n",
    "    return flag     \n",
    "print(\"Pronic numbers between 1 and 100: \")    \n",
    "for i in range(1, 101):    \n",
    "    if(ispronicnumber(i)):    \n",
    "        print(i)   "
   ]
  }
 ],
 "metadata": {
  "kernelspec": {
   "display_name": "Python 3 (ipykernel)",
   "language": "python",
   "name": "python3"
  },
  "language_info": {
   "codemirror_mode": {
    "name": "ipython",
    "version": 3
   },
   "file_extension": ".py",
   "mimetype": "text/x-python",
   "name": "python",
   "nbconvert_exporter": "python",
   "pygments_lexer": "ipython3",
   "version": "3.9.12"
  }
 },
 "nbformat": 4,
 "nbformat_minor": 5
}
