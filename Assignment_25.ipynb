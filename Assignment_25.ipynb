{
 "cells": [
  {
   "cell_type": "markdown",
   "id": "e369b25b",
   "metadata": {},
   "source": [
    "# Assignment_25"
   ]
  },
  {
   "cell_type": "markdown",
   "id": "4d8ef6c5",
   "metadata": {},
   "source": [
    "### 1) What is the difference between enclosing a list comprehension in square brackets and  parentheses?"
   ]
  },
  {
   "cell_type": "markdown",
   "id": "d16e3df1",
   "metadata": {},
   "source": [
    "Ans: Square brackets are lists while parentheses are generally tuples. List is mutable, so we can change it's elements, but we can not do this kind of thing with tuple."
   ]
  },
  {
   "cell_type": "markdown",
   "id": "60c6deb9",
   "metadata": {},
   "source": [
    "### 2) What is the relationship between generators and iterators?"
   ]
  },
  {
   "cell_type": "markdown",
   "id": "f14d3d42",
   "metadata": {},
   "source": [
    "Ans: we can say every generator is an iterator."
   ]
  },
  {
   "cell_type": "markdown",
   "id": "e7d4b6c6",
   "metadata": {},
   "source": [
    "### 3) What are the signs that a function is a generator function?"
   ]
  },
  {
   "cell_type": "markdown",
   "id": "480b1d0b",
   "metadata": {},
   "source": [
    "Ans: By the presence of a yeild statement, turns a regular function into a generator function."
   ]
  },
  {
   "cell_type": "markdown",
   "id": "2d306a51",
   "metadata": {},
   "source": [
    "### 4) What is the purpose of a yield statement?"
   ]
  },
  {
   "cell_type": "markdown",
   "id": "4854fb91",
   "metadata": {},
   "source": [
    "Ans: The yeild statement, controls the flow of a generator function. yield statement is similar to a return statement use for returning values."
   ]
  },
  {
   "cell_type": "markdown",
   "id": "0d3e6fb9",
   "metadata": {},
   "source": [
    "### 5) What is the relationship between map calls and list comprehensions? Make a comparison and contrast between the two."
   ]
  },
  {
   "cell_type": "markdown",
   "id": "9f1680ab",
   "metadata": {},
   "source": [
    "Ans: "
   ]
  },
  {
   "cell_type": "markdown",
   "id": "1ed011c3",
   "metadata": {},
   "source": [
    "List comprehension is a complete substitute to for loops, lambda function as well as the functions map() calls."
   ]
  },
  {
   "cell_type": "markdown",
   "id": "8b93c38a",
   "metadata": {},
   "source": [
    "List comprehension is more short and easier to read as compared to map. List comprehension are used when a list of results is required as map only returns a map object and does not return any list. Map is faster in case of calling an already defined function (no lambda function is needed)."
   ]
  }
 ],
 "metadata": {
  "kernelspec": {
   "display_name": "Python 3 (ipykernel)",
   "language": "python",
   "name": "python3"
  },
  "language_info": {
   "codemirror_mode": {
    "name": "ipython",
    "version": 3
   },
   "file_extension": ".py",
   "mimetype": "text/x-python",
   "name": "python",
   "nbconvert_exporter": "python",
   "pygments_lexer": "ipython3",
   "version": "3.9.12"
  }
 },
 "nbformat": 4,
 "nbformat_minor": 5
}
