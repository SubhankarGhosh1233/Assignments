{
 "cells": [
  {
   "cell_type": "markdown",
   "id": "6b93a226",
   "metadata": {},
   "source": [
    "# Programming_Assignment_7"
   ]
  },
  {
   "cell_type": "markdown",
   "id": "fe346b38",
   "metadata": {},
   "source": [
    "### 1. Write a Python Program to find sum of array?"
   ]
  },
  {
   "cell_type": "code",
   "execution_count": 7,
   "id": "b7dc95b9",
   "metadata": {},
   "outputs": [
    {
     "name": "stdout",
     "output_type": "stream",
     "text": [
      "28\n"
     ]
    }
   ],
   "source": [
    "array = [1, 2, 3, 5, 4, 6, 7]\n",
    "print(sum(array))"
   ]
  },
  {
   "cell_type": "markdown",
   "id": "282593ad",
   "metadata": {},
   "source": [
    "### 2. Write a Python Program to find largest element in an array?"
   ]
  },
  {
   "cell_type": "code",
   "execution_count": 8,
   "id": "d7c6dbcf",
   "metadata": {},
   "outputs": [
    {
     "name": "stdout",
     "output_type": "stream",
     "text": [
      "7\n"
     ]
    }
   ],
   "source": [
    "array = [1, 2, 3, 5, 4, 6, 7]\n",
    "print(max(array))"
   ]
  },
  {
   "cell_type": "markdown",
   "id": "dd7c9899",
   "metadata": {},
   "source": [
    "### 3. Write a Python Program for array rotation?"
   ]
  },
  {
   "cell_type": "code",
   "execution_count": 9,
   "id": "740d7d76",
   "metadata": {},
   "outputs": [
    {
     "name": "stdout",
     "output_type": "stream",
     "text": [
      "The list is : \n",
      "1\n",
      "2\n",
      "3\n",
      "4\n",
      "5\n",
      "6\n",
      "7\n",
      "\n",
      "Array after left rotating is : \n",
      "4\n",
      "5\n",
      "6\n",
      "7\n",
      "1\n",
      "2\n",
      "3\n"
     ]
    }
   ],
   "source": [
    "array = [1, 2, 3, 4, 5, 6, 7]\n",
    "n = 3\n",
    "print(\"The list is : \")\n",
    "for i in range(0, len(array)):\n",
    "    print(array[i])\n",
    "\n",
    "for i in range(0, n):\n",
    "    first_elem = array[0]\n",
    "\n",
    "    for j in range(0, len(array)-1):\n",
    "        array[j] = array[j+1]\n",
    "\n",
    "    array[len(array)-1] = first_elem\n",
    "\n",
    "print()\n",
    "\n",
    "print(\"Array after left rotating is : \")\n",
    "for i in range(0, len(array)):\n",
    "    print(array[i])"
   ]
  },
  {
   "cell_type": "markdown",
   "id": "3f9ee8ef",
   "metadata": {},
   "source": [
    "### 4. Write a Python Program to Split the array and add the first part to the end?"
   ]
  },
  {
   "cell_type": "code",
   "execution_count": 10,
   "id": "94b03d6b",
   "metadata": {},
   "outputs": [
    {
     "name": "stdout",
     "output_type": "stream",
     "text": [
      "3 4 5 6 7 1 2 "
     ]
    }
   ],
   "source": [
    "array = [1, 2, 3, 4, 5, 6, 7]\n",
    "n = len(array)\n",
    "position = 2\n",
    "x = array[:position]\n",
    "y = array[position:]\n",
    "y.extend(x)\n",
    "for i in y:\n",
    "    print(i, end=\" \")"
   ]
  },
  {
   "cell_type": "markdown",
   "id": "0bbec6b2",
   "metadata": {},
   "source": [
    "### 5. Write a Python Program to check if given array is Monotonic?"
   ]
  },
  {
   "cell_type": "code",
   "execution_count": 11,
   "id": "8cf1006c",
   "metadata": {},
   "outputs": [
    {
     "name": "stdout",
     "output_type": "stream",
     "text": [
      "Yes Monotonic increasing\n"
     ]
    }
   ],
   "source": [
    "array = [1, 2, 3, 4,5,6,7,8,9]\n",
    "f1=0 \n",
    "f2=0 \n",
    "#Firsst checking for increasing order. \n",
    "for i in range(1,len(array)): \n",
    "    if(array[i-1]>array[i]): \n",
    "        f1=1 \n",
    "        break \n",
    "if(f1==0): \n",
    "    print(\"Yes Monotonic increasing\") \n",
    "else: \n",
    "    #checking for decreasing order \n",
    "    for i in range(len(array),0,-1): \n",
    "        if(array[i-1]<array[i]): \n",
    "            f2=1 \n",
    "            break \n",
    "    if(f2==0): \n",
    "        print(\"Yes\") \n",
    "    elif(f1==1 and f2==1): \n",
    "        print(\"No Monotonic decreasing\") "
   ]
  },
  {
   "cell_type": "code",
   "execution_count": null,
   "id": "80031731",
   "metadata": {},
   "outputs": [],
   "source": []
  }
 ],
 "metadata": {
  "kernelspec": {
   "display_name": "Python 3 (ipykernel)",
   "language": "python",
   "name": "python3"
  },
  "language_info": {
   "codemirror_mode": {
    "name": "ipython",
    "version": 3
   },
   "file_extension": ".py",
   "mimetype": "text/x-python",
   "name": "python",
   "nbconvert_exporter": "python",
   "pygments_lexer": "ipython3",
   "version": "3.9.12"
  }
 },
 "nbformat": 4,
 "nbformat_minor": 5
}
