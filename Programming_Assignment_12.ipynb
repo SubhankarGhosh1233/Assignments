{
 "cells": [
  {
   "cell_type": "markdown",
   "id": "ac17d6c6",
   "metadata": {},
   "source": [
    "# Programming_Assignment_12"
   ]
  },
  {
   "cell_type": "markdown",
   "id": "e4050e44",
   "metadata": {},
   "source": [
    "### 1. Write a Python program to Extract Unique values dictionary values?\n"
   ]
  },
  {
   "cell_type": "code",
   "execution_count": 7,
   "id": "160ef665",
   "metadata": {},
   "outputs": [
    {
     "name": "stdout",
     "output_type": "stream",
     "text": [
      "Dictionary =  {'A': 11, 'B': 55, 'C': 87, 'D': 155, 'E': 55}\n",
      "Unique Values =  [11, 155, 87, 55]\n"
     ]
    }
   ],
   "source": [
    "myDict = {'A': 11, 'B': 55, 'C': 87, 'D': 155, 'E': 55}\n",
    "uniqueValues = list({val for val in myDict.values() })\n",
    "print(\"Dictionary = \", end = \" \")\n",
    "print(myDict)\n",
    "print(\"Unique Values = \", end = \" \")\n",
    "print(uniqueValues)"
   ]
  },
  {
   "cell_type": "markdown",
   "id": "a7a87489",
   "metadata": {},
   "source": [
    "### 2. Write a Python program to find the sum of all items in a dictionary?\n"
   ]
  },
  {
   "cell_type": "code",
   "execution_count": 10,
   "id": "22822641",
   "metadata": {},
   "outputs": [
    {
     "name": "stdout",
     "output_type": "stream",
     "text": [
      "200\n"
     ]
    }
   ],
   "source": [
    "my_dict = {'key1':10,'key2':-10,'key3':200}\n",
    "print(sum(my_dict.values()))"
   ]
  },
  {
   "cell_type": "markdown",
   "id": "2a403954",
   "metadata": {},
   "source": [
    "### 3. Write a Python program to Merging two Dictionaries?\n"
   ]
  },
  {
   "cell_type": "code",
   "execution_count": 14,
   "id": "67e610e7",
   "metadata": {},
   "outputs": [
    {
     "name": "stdout",
     "output_type": "stream",
     "text": [
      "{'A': 11, 'E': 55, 'D': 87, 'B': 55, 'C': 87}\n"
     ]
    }
   ],
   "source": [
    "dict_1 = {'A': 11, 'B': 55, 'C': 87}\n",
    "dict_2 = {'A': 111, 'E': 55, 'D': 87}\n",
    "\n",
    "dict_3 = dict_2.copy()\n",
    "dict_3.update(dict_1)\n",
    "\n",
    "print(dict_3)"
   ]
  },
  {
   "cell_type": "markdown",
   "id": "a08152f4",
   "metadata": {},
   "source": [
    "### 4. Write a Python program to convert key-values list to flat dictionary?\n"
   ]
  },
  {
   "cell_type": "code",
   "execution_count": 1,
   "id": "e2b0e945",
   "metadata": {},
   "outputs": [
    {
     "name": "stdout",
     "output_type": "stream",
     "text": [
      "dictionary languages : {'language': ['python', 'java', 'c++', 'javascript'], 'year': [1991, 1995, 1980, 1995]}\n",
      "Flattened dictionary  language : {'python': 1991, 'java': 1995, 'c++': 1980, 'javascript': 1995}\n"
     ]
    }
   ],
   "source": [
    "languages = {'language' : ['python', 'java', 'c++', 'javascript'], 'year' : [1991, 1995, 1980, 1995]}\n",
    "print(\"dictionary languages : \" + str(languages))\n",
    "lang_year = dict(zip(languages['language'], languages['year']))\n",
    "print(\"Flattened dictionary  language : \" + str(lang_year))"
   ]
  },
  {
   "cell_type": "markdown",
   "id": "f04318a4",
   "metadata": {},
   "source": [
    "### 5. Write a Python program to insertion at the beginning in OrderedDict?\n"
   ]
  },
  {
   "cell_type": "code",
   "execution_count": 26,
   "id": "e43b0e9a",
   "metadata": {},
   "outputs": [
    {
     "name": "stdout",
     "output_type": "stream",
     "text": [
      "OrderedDict([('A', '100'), ('B', '200'), ('C', '300'), ('D', '400')])\n",
      "Resultant Dictionary :\n",
      "OrderedDict([('D', '400'), ('A', '100'), ('B', '200'), ('C', '300')])\n"
     ]
    }
   ],
   "source": [
    "from collections import OrderedDict  \n",
    "dic1 = OrderedDict([('A', '100'), ('B', '200'), ('C', '300')])\n",
    "\n",
    "dic1.update({\"D\": '400'})\n",
    "print(dic1)\n",
    "\n",
    "dic1.move_to_end(\"D\", last=False)\n",
    "  \n",
    "\n",
    "print (\"Resultant Dictionary :\")\n",
    "print(dic1)"
   ]
  },
  {
   "cell_type": "markdown",
   "id": "82e96971",
   "metadata": {},
   "source": [
    "### 6. Write a Python program to check order of character in string using OrderedDict()?\n"
   ]
  },
  {
   "cell_type": "code",
   "execution_count": 30,
   "id": "72330fd0",
   "metadata": {},
   "outputs": [
    {
     "name": "stdout",
     "output_type": "stream",
     "text": [
      "False\n",
      "True\n"
     ]
    }
   ],
   "source": [
    "from collections import OrderedDict \n",
    "def checkOrder(string, pattern): \n",
    "    dic = OrderedDict.fromkeys(string) \n",
    "    ptr = 0\n",
    "    for key,value in dic.items(): \n",
    "        if (key == pattern[ptr]): \n",
    "            ptr = ptr + 1\n",
    "        if (ptr == (len(pattern))): \n",
    "            return 'True'\n",
    "    return 'False'\n",
    "\n",
    "string = 'Study tonight'\n",
    "pattern = 'stu'\n",
    "print (checkOrder(string,pattern))\n",
    "\n",
    "string2= 'Welcome'\n",
    "pattern2= 'cm'\n",
    "print (checkOrder(string2,pattern2)) \n"
   ]
  },
  {
   "cell_type": "markdown",
   "id": "f2e089d6",
   "metadata": {},
   "source": [
    "### 7. Write a Python program to sort Python Dictionaries by Key or Value?"
   ]
  },
  {
   "cell_type": "code",
   "execution_count": 2,
   "id": "abca8028",
   "metadata": {},
   "outputs": [
    {
     "name": "stdout",
     "output_type": "stream",
     "text": [
      "{'a': 10, 'b': 9, 'c': 15, 'd': 2, 'e': 32}\n"
     ]
    }
   ],
   "source": [
    "myDict = {'a': 10, 'b': 9,\n",
    "        'c': 15, 'd': 2, 'e': 32}\n",
    " \n",
    "myKeys = list(myDict.keys())\n",
    "myKeys.sort()\n",
    "sorted_dict = {i: myDict[i] for i in myKeys}\n",
    " \n",
    "print(sorted_dict)"
   ]
  }
 ],
 "metadata": {
  "kernelspec": {
   "display_name": "Python 3 (ipykernel)",
   "language": "python",
   "name": "python3"
  },
  "language_info": {
   "codemirror_mode": {
    "name": "ipython",
    "version": 3
   },
   "file_extension": ".py",
   "mimetype": "text/x-python",
   "name": "python",
   "nbconvert_exporter": "python",
   "pygments_lexer": "ipython3",
   "version": "3.9.12"
  }
 },
 "nbformat": 4,
 "nbformat_minor": 5
}
