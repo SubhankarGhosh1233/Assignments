{
 "cells": [
  {
   "cell_type": "markdown",
   "id": "39cbdbaa",
   "metadata": {},
   "source": [
    "# Assignment_13"
   ]
  },
  {
   "cell_type": "markdown",
   "id": "f648da78",
   "metadata": {},
   "source": [
    "### 1. What advantages do Excel spreadsheets have over CSV spreadsheets?"
   ]
  },
  {
   "cell_type": "markdown",
   "id": "72e08a59",
   "metadata": {},
   "source": [
    "Ans: The specialty of the CSV format lies in its simplicity. The CSV format is primarily used for storing tabular data, data that can be decomposed into rows and columns."
   ]
  },
  {
   "cell_type": "markdown",
   "id": "a2001668",
   "metadata": {},
   "source": [
    "### 2.What do you pass to csv.reader() and csv.writer() to create reader and writer objects?"
   ]
  },
  {
   "cell_type": "markdown",
   "id": "a45681a5",
   "metadata": {},
   "source": [
    "Ans: \n",
    "The complete syntax of the csv.reader() function is:\n",
    "csv.reader(csvfile, dialect='excel', optional_parameters)\n",
    "The complete syntax of the csv.writer() function is:\n",
    "csv.writer(csvfile, dialect='excel', optional_parameters)"
   ]
  },
  {
   "cell_type": "markdown",
   "id": "47767571",
   "metadata": {},
   "source": [
    "### 3. What modes do File objects for reader and writer objects need to be opened in?"
   ]
  },
  {
   "cell_type": "markdown",
   "id": "f8d7afbc",
   "metadata": {},
   "source": [
    "Ans: Read-binary ('rb') for Read and write-binary ('wb') for  Write."
   ]
  },
  {
   "cell_type": "markdown",
   "id": "8befe624",
   "metadata": {},
   "source": [
    "### 4. What method takes a list argument and writes it to a CSV file?"
   ]
  },
  {
   "cell_type": "markdown",
   "id": "89e88e4a",
   "metadata": {},
   "source": [
    "Ans: First, open the CSV file for writing (w mode) by using the open() function.\n",
    "Second, create a CSV writer object by calling the writer() function of the csv module.\n",
    "Third, write data to CSV file by calling the writerow() or writerows() method of the CSV writer object.\n",
    "Finally, close the file once you complete writing data to it."
   ]
  },
  {
   "cell_type": "markdown",
   "id": "fa16e4bc",
   "metadata": {},
   "source": [
    "import csv\n",
    "f = open('path/to/csv_file', 'w')\n",
    "writer = csv.writer(f)\n",
    "writer.writerow(row)\n",
    "f.close()"
   ]
  },
  {
   "cell_type": "markdown",
   "id": "ff6a9d28",
   "metadata": {},
   "source": [
    "### 5. What do the keyword arguments delimiter and line terminator do?"
   ]
  },
  {
   "cell_type": "markdown",
   "id": "3cb1ad47",
   "metadata": {},
   "source": [
    "Ans: The delimiter is the character that appears between cells on a row. By default, the delimiter for a CSV file is a comma. The line terminator is the character that comes at the end of a row. By default, the line terminator is a newline. "
   ]
  },
  {
   "cell_type": "markdown",
   "id": "983ad0d5",
   "metadata": {},
   "source": [
    "### 6. What function takes a string of JSON data and returns a Python data structure?"
   ]
  },
  {
   "cell_type": "markdown",
   "id": "145a2c88",
   "metadata": {},
   "source": [
    "Ans: json.loads()"
   ]
  },
  {
   "cell_type": "markdown",
   "id": "f54e0ed3",
   "metadata": {},
   "source": [
    "### 7. What function takes a Python data structure and returns a string of JSON data?"
   ]
  },
  {
   "cell_type": "markdown",
   "id": "766b92d5",
   "metadata": {},
   "source": [
    "Ans: json.dumps()"
   ]
  },
  {
   "cell_type": "code",
   "execution_count": null,
   "id": "2390bc93",
   "metadata": {},
   "outputs": [],
   "source": []
  }
 ],
 "metadata": {
  "kernelspec": {
   "display_name": "Python 3 (ipykernel)",
   "language": "python",
   "name": "python3"
  },
  "language_info": {
   "codemirror_mode": {
    "name": "ipython",
    "version": 3
   },
   "file_extension": ".py",
   "mimetype": "text/x-python",
   "name": "python",
   "nbconvert_exporter": "python",
   "pygments_lexer": "ipython3",
   "version": "3.9.12"
  }
 },
 "nbformat": 4,
 "nbformat_minor": 5
}
