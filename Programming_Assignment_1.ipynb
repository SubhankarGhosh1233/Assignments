{
 "cells": [
  {
   "cell_type": "markdown",
   "id": "e6e6a00b",
   "metadata": {},
   "source": [
    "# Programming_Assignment_1"
   ]
  },
  {
   "cell_type": "markdown",
   "id": "83476993",
   "metadata": {},
   "source": [
    "### 1. Write a Python program to print &quot;Hello Python&quot;?"
   ]
  },
  {
   "cell_type": "code",
   "execution_count": 1,
   "id": "6632e723",
   "metadata": {},
   "outputs": [
    {
     "name": "stdout",
     "output_type": "stream",
     "text": [
      "Hello Python\n"
     ]
    }
   ],
   "source": [
    "print(\"Hello Python\")"
   ]
  },
  {
   "cell_type": "markdown",
   "id": "9a35143e",
   "metadata": {},
   "source": [
    "### 2. Write a Python program to do arithmetical operations addition and division.?"
   ]
  },
  {
   "cell_type": "code",
   "execution_count": 2,
   "id": "04b87a80",
   "metadata": {},
   "outputs": [],
   "source": [
    "a = 200\n",
    "b = 100\n",
    "#addition\n",
    "add = (a+b)\n",
    "#division\n",
    "div = (a/b)"
   ]
  },
  {
   "cell_type": "code",
   "execution_count": 3,
   "id": "499eb9a4",
   "metadata": {},
   "outputs": [
    {
     "data": {
      "text/plain": [
       "300"
      ]
     },
     "execution_count": 3,
     "metadata": {},
     "output_type": "execute_result"
    }
   ],
   "source": [
    "add"
   ]
  },
  {
   "cell_type": "code",
   "execution_count": 4,
   "id": "7cdb9309",
   "metadata": {},
   "outputs": [
    {
     "data": {
      "text/plain": [
       "2.0"
      ]
     },
     "execution_count": 4,
     "metadata": {},
     "output_type": "execute_result"
    }
   ],
   "source": [
    "div"
   ]
  },
  {
   "cell_type": "markdown",
   "id": "6cda2013",
   "metadata": {},
   "source": [
    "### 3. Write a Python program to find the area of a triangle?\n"
   ]
  },
  {
   "cell_type": "code",
   "execution_count": 5,
   "id": "26d0e32a",
   "metadata": {},
   "outputs": [
    {
     "data": {
      "text/plain": [
       "9.921567416492215"
      ]
     },
     "execution_count": 5,
     "metadata": {},
     "output_type": "execute_result"
    }
   ],
   "source": [
    "# three sides of the triangle is a, b and c\n",
    "a=4\n",
    "b=5\n",
    "c=6\n",
    "s = (a + b + c)/2\n",
    "area = (s*(s-a) *(s-b) *(s-c)) ** 0.5\n",
    "area"
   ]
  },
  {
   "cell_type": "markdown",
   "id": "a917d77c",
   "metadata": {},
   "source": [
    "### 4. Write a Python program to swap two variables?\n"
   ]
  },
  {
   "cell_type": "code",
   "execution_count": 6,
   "id": "5e08c90a",
   "metadata": {},
   "outputs": [
    {
     "name": "stdout",
     "output_type": "stream",
     "text": [
      "The x value after swapping: 99\n",
      "The y value after swapping: 9\n"
     ]
    }
   ],
   "source": [
    "x = 9\n",
    "y = 99\n",
    "#create a z variale and swap the values\n",
    "z = x\n",
    "x = y\n",
    "y = z\n",
    "print(\"The x value after swapping: {}\".format(x))\n",
    "print(\"The y value after swapping: {}\".format(y))"
   ]
  },
  {
   "cell_type": "markdown",
   "id": "461c72ec",
   "metadata": {},
   "source": [
    "### 5. Write a Python program to generate a random number?"
   ]
  },
  {
   "cell_type": "code",
   "execution_count": 7,
   "id": "a6bdcc9a",
   "metadata": {},
   "outputs": [
    {
     "name": "stdout",
     "output_type": "stream",
     "text": [
      "24\n"
     ]
    }
   ],
   "source": [
    "import random\n",
    "print(random.randint(0,100))"
   ]
  },
  {
   "cell_type": "code",
   "execution_count": null,
   "id": "4c95c346",
   "metadata": {},
   "outputs": [],
   "source": []
  }
 ],
 "metadata": {
  "kernelspec": {
   "display_name": "Python 3 (ipykernel)",
   "language": "python",
   "name": "python3"
  },
  "language_info": {
   "codemirror_mode": {
    "name": "ipython",
    "version": 3
   },
   "file_extension": ".py",
   "mimetype": "text/x-python",
   "name": "python",
   "nbconvert_exporter": "python",
   "pygments_lexer": "ipython3",
   "version": "3.9.12"
  }
 },
 "nbformat": 4,
 "nbformat_minor": 5
}
